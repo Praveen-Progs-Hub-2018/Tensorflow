{
  "nbformat": 4,
  "nbformat_minor": 0,
  "metadata": {
    "colab": {
      "name": "lamda_funcs.ipynb",
      "provenance": [],
      "collapsed_sections": [],
      "authorship_tag": "ABX9TyOwyquoqAmoTfjQ+N5GJlqD",
      "include_colab_link": true
    },
    "kernelspec": {
      "name": "python3",
      "display_name": "Python 3"
    },
    "language_info": {
      "name": "python"
    }
  },
  "cells": [
    {
      "cell_type": "markdown",
      "metadata": {
        "id": "view-in-github",
        "colab_type": "text"
      },
      "source": [
        "<a href=\"https://colab.research.google.com/github/Praveen-Progs-Hub-2018/Tensorflow/blob/master/lamda_funcs.ipynb\" target=\"_parent\"><img src=\"https://colab.research.google.com/assets/colab-badge.svg\" alt=\"Open In Colab\"/></a>"
      ]
    },
    {
      "cell_type": "code",
      "metadata": {
        "colab": {
          "base_uri": "https://localhost:8080/",
          "height": 206
        },
        "id": "-NgS3y00klqQ",
        "outputId": "63f894ee-2234-460a-c0df-f400705b4d1e"
      },
      "source": [
        "\n",
        "import pandas as pd\n",
        "import numpy as np\n",
        "import datetime\n",
        "numdays=5\n",
        "base=datetime.date.today()\n",
        "date_list=[base - datetime.timedelta(days=x) for x in range(numdays)]\n",
        "random_a=np.random.randint(0, 100, size=numdays)\n",
        "random_b=np.random.randint(0, 100, size=numdays)\n",
        "df=pd.DataFrame({'date': date_list, 'a': random_a, 'b': random_b})\n",
        "\n",
        "#Refference link\n",
        "#https://python.plainenglish.io/feature-engineering-with-map-apply-and-lambda-functions-in-pandas-454ec2048eed\n",
        "#---Funcs applicable\n",
        "# df['dow']     = df['date'].map(lambda x: x.weekday())\n",
        "# df['weekday'] = df['date'].map(lambda x: 'Y' if x.weekday()<5 else 'N')\n",
        "\n",
        "# df['total']=df[['a', 'b']].apply(lambda x: x['a']+x['b'], axis=1)\n",
        "# df.loc['sum']=df[['a', 'b']].apply(lambda x: x.sum(), axis=0)\n",
        "# df[['a', 'b']].rolling(window=2).apply(lambda x: np.mean([x.iloc[0], x.iloc[1]]))\n",
        "# df.groupby('weekday').apply(lambda x: x['total']/x['total'].sum())"
      ],
      "execution_count": 7,
      "outputs": [
        {
          "output_type": "execute_result",
          "data": {
            "text/html": [
              "<div>\n",
              "<style scoped>\n",
              "    .dataframe tbody tr th:only-of-type {\n",
              "        vertical-align: middle;\n",
              "    }\n",
              "\n",
              "    .dataframe tbody tr th {\n",
              "        vertical-align: top;\n",
              "    }\n",
              "\n",
              "    .dataframe thead th {\n",
              "        text-align: right;\n",
              "    }\n",
              "</style>\n",
              "<table border=\"1\" class=\"dataframe\">\n",
              "  <thead>\n",
              "    <tr style=\"text-align: right;\">\n",
              "      <th></th>\n",
              "      <th>date</th>\n",
              "      <th>a</th>\n",
              "      <th>b</th>\n",
              "    </tr>\n",
              "  </thead>\n",
              "  <tbody>\n",
              "    <tr>\n",
              "      <th>0</th>\n",
              "      <td>2021-11-24</td>\n",
              "      <td>24</td>\n",
              "      <td>16</td>\n",
              "    </tr>\n",
              "    <tr>\n",
              "      <th>1</th>\n",
              "      <td>2021-11-23</td>\n",
              "      <td>75</td>\n",
              "      <td>11</td>\n",
              "    </tr>\n",
              "    <tr>\n",
              "      <th>2</th>\n",
              "      <td>2021-11-22</td>\n",
              "      <td>15</td>\n",
              "      <td>47</td>\n",
              "    </tr>\n",
              "    <tr>\n",
              "      <th>3</th>\n",
              "      <td>2021-11-21</td>\n",
              "      <td>18</td>\n",
              "      <td>69</td>\n",
              "    </tr>\n",
              "    <tr>\n",
              "      <th>4</th>\n",
              "      <td>2021-11-20</td>\n",
              "      <td>34</td>\n",
              "      <td>49</td>\n",
              "    </tr>\n",
              "  </tbody>\n",
              "</table>\n",
              "</div>"
            ],
            "text/plain": [
              "         date   a   b\n",
              "0  2021-11-24  24  16\n",
              "1  2021-11-23  75  11\n",
              "2  2021-11-22  15  47\n",
              "3  2021-11-21  18  69\n",
              "4  2021-11-20  34  49"
            ]
          },
          "metadata": {},
          "execution_count": 7
        }
      ]
    },
    {
      "cell_type": "code",
      "metadata": {
        "colab": {
          "base_uri": "https://localhost:8080/",
          "height": 206
        },
        "id": "SLbiaK_zknM1",
        "outputId": "e006da12-7ab3-497f-8bf6-78f428510b0b"
      },
      "source": [
        "df['dow']     = df['date'].map(lambda x: x.weekday())\n",
        "df['weekday'] = df['date'].map(lambda x: 'Y' if x.weekday()<5 else 'N')\n",
        "df\n"
      ],
      "execution_count": 8,
      "outputs": [
        {
          "output_type": "execute_result",
          "data": {
            "text/html": [
              "<div>\n",
              "<style scoped>\n",
              "    .dataframe tbody tr th:only-of-type {\n",
              "        vertical-align: middle;\n",
              "    }\n",
              "\n",
              "    .dataframe tbody tr th {\n",
              "        vertical-align: top;\n",
              "    }\n",
              "\n",
              "    .dataframe thead th {\n",
              "        text-align: right;\n",
              "    }\n",
              "</style>\n",
              "<table border=\"1\" class=\"dataframe\">\n",
              "  <thead>\n",
              "    <tr style=\"text-align: right;\">\n",
              "      <th></th>\n",
              "      <th>date</th>\n",
              "      <th>a</th>\n",
              "      <th>b</th>\n",
              "      <th>dow</th>\n",
              "      <th>weekday</th>\n",
              "    </tr>\n",
              "  </thead>\n",
              "  <tbody>\n",
              "    <tr>\n",
              "      <th>0</th>\n",
              "      <td>2021-11-24</td>\n",
              "      <td>24</td>\n",
              "      <td>16</td>\n",
              "      <td>2</td>\n",
              "      <td>Y</td>\n",
              "    </tr>\n",
              "    <tr>\n",
              "      <th>1</th>\n",
              "      <td>2021-11-23</td>\n",
              "      <td>75</td>\n",
              "      <td>11</td>\n",
              "      <td>1</td>\n",
              "      <td>Y</td>\n",
              "    </tr>\n",
              "    <tr>\n",
              "      <th>2</th>\n",
              "      <td>2021-11-22</td>\n",
              "      <td>15</td>\n",
              "      <td>47</td>\n",
              "      <td>0</td>\n",
              "      <td>Y</td>\n",
              "    </tr>\n",
              "    <tr>\n",
              "      <th>3</th>\n",
              "      <td>2021-11-21</td>\n",
              "      <td>18</td>\n",
              "      <td>69</td>\n",
              "      <td>6</td>\n",
              "      <td>N</td>\n",
              "    </tr>\n",
              "    <tr>\n",
              "      <th>4</th>\n",
              "      <td>2021-11-20</td>\n",
              "      <td>34</td>\n",
              "      <td>49</td>\n",
              "      <td>5</td>\n",
              "      <td>N</td>\n",
              "    </tr>\n",
              "  </tbody>\n",
              "</table>\n",
              "</div>"
            ],
            "text/plain": [
              "         date   a   b  dow weekday\n",
              "0  2021-11-24  24  16    2       Y\n",
              "1  2021-11-23  75  11    1       Y\n",
              "2  2021-11-22  15  47    0       Y\n",
              "3  2021-11-21  18  69    6       N\n",
              "4  2021-11-20  34  49    5       N"
            ]
          },
          "metadata": {},
          "execution_count": 8
        }
      ]
    },
    {
      "cell_type": "code",
      "metadata": {
        "colab": {
          "base_uri": "https://localhost:8080/",
          "height": 237
        },
        "id": "RMnTIA8Hk4cE",
        "outputId": "f35fde9f-8f77-43f3-c206-d5959c5f8f58"
      },
      "source": [
        "df['total']=df[['a', 'b']].apply(lambda x: x['a']+x['b'], axis=1)\n",
        "df.loc['sum']=df[['a', 'b']].apply(lambda x: x.sum(), axis=0)\n",
        "df "
      ],
      "execution_count": 9,
      "outputs": [
        {
          "output_type": "execute_result",
          "data": {
            "text/html": [
              "<div>\n",
              "<style scoped>\n",
              "    .dataframe tbody tr th:only-of-type {\n",
              "        vertical-align: middle;\n",
              "    }\n",
              "\n",
              "    .dataframe tbody tr th {\n",
              "        vertical-align: top;\n",
              "    }\n",
              "\n",
              "    .dataframe thead th {\n",
              "        text-align: right;\n",
              "    }\n",
              "</style>\n",
              "<table border=\"1\" class=\"dataframe\">\n",
              "  <thead>\n",
              "    <tr style=\"text-align: right;\">\n",
              "      <th></th>\n",
              "      <th>date</th>\n",
              "      <th>a</th>\n",
              "      <th>b</th>\n",
              "      <th>dow</th>\n",
              "      <th>weekday</th>\n",
              "      <th>total</th>\n",
              "    </tr>\n",
              "  </thead>\n",
              "  <tbody>\n",
              "    <tr>\n",
              "      <th>0</th>\n",
              "      <td>2021-11-24</td>\n",
              "      <td>24.0</td>\n",
              "      <td>16.0</td>\n",
              "      <td>2.0</td>\n",
              "      <td>Y</td>\n",
              "      <td>40.0</td>\n",
              "    </tr>\n",
              "    <tr>\n",
              "      <th>1</th>\n",
              "      <td>2021-11-23</td>\n",
              "      <td>75.0</td>\n",
              "      <td>11.0</td>\n",
              "      <td>1.0</td>\n",
              "      <td>Y</td>\n",
              "      <td>86.0</td>\n",
              "    </tr>\n",
              "    <tr>\n",
              "      <th>2</th>\n",
              "      <td>2021-11-22</td>\n",
              "      <td>15.0</td>\n",
              "      <td>47.0</td>\n",
              "      <td>0.0</td>\n",
              "      <td>Y</td>\n",
              "      <td>62.0</td>\n",
              "    </tr>\n",
              "    <tr>\n",
              "      <th>3</th>\n",
              "      <td>2021-11-21</td>\n",
              "      <td>18.0</td>\n",
              "      <td>69.0</td>\n",
              "      <td>6.0</td>\n",
              "      <td>N</td>\n",
              "      <td>87.0</td>\n",
              "    </tr>\n",
              "    <tr>\n",
              "      <th>4</th>\n",
              "      <td>2021-11-20</td>\n",
              "      <td>34.0</td>\n",
              "      <td>49.0</td>\n",
              "      <td>5.0</td>\n",
              "      <td>N</td>\n",
              "      <td>83.0</td>\n",
              "    </tr>\n",
              "    <tr>\n",
              "      <th>sum</th>\n",
              "      <td>NaN</td>\n",
              "      <td>166.0</td>\n",
              "      <td>192.0</td>\n",
              "      <td>NaN</td>\n",
              "      <td>NaN</td>\n",
              "      <td>NaN</td>\n",
              "    </tr>\n",
              "  </tbody>\n",
              "</table>\n",
              "</div>"
            ],
            "text/plain": [
              "           date      a      b  dow weekday  total\n",
              "0    2021-11-24   24.0   16.0  2.0       Y   40.0\n",
              "1    2021-11-23   75.0   11.0  1.0       Y   86.0\n",
              "2    2021-11-22   15.0   47.0  0.0       Y   62.0\n",
              "3    2021-11-21   18.0   69.0  6.0       N   87.0\n",
              "4    2021-11-20   34.0   49.0  5.0       N   83.0\n",
              "sum         NaN  166.0  192.0  NaN     NaN    NaN"
            ]
          },
          "metadata": {},
          "execution_count": 9
        }
      ]
    },
    {
      "cell_type": "code",
      "metadata": {
        "colab": {
          "base_uri": "https://localhost:8080/",
          "height": 237
        },
        "id": "If8qHAAwk947",
        "outputId": "94cbfd0e-5334-4bc9-d6a9-71bea99ecb06"
      },
      "source": [
        "df[['a', 'b']].rolling(window=2).apply(lambda x: np.mean([x.iloc[0], x.iloc[1]]))\n",
        "df"
      ],
      "execution_count": 11,
      "outputs": [
        {
          "output_type": "execute_result",
          "data": {
            "text/html": [
              "<div>\n",
              "<style scoped>\n",
              "    .dataframe tbody tr th:only-of-type {\n",
              "        vertical-align: middle;\n",
              "    }\n",
              "\n",
              "    .dataframe tbody tr th {\n",
              "        vertical-align: top;\n",
              "    }\n",
              "\n",
              "    .dataframe thead th {\n",
              "        text-align: right;\n",
              "    }\n",
              "</style>\n",
              "<table border=\"1\" class=\"dataframe\">\n",
              "  <thead>\n",
              "    <tr style=\"text-align: right;\">\n",
              "      <th></th>\n",
              "      <th>a</th>\n",
              "      <th>b</th>\n",
              "    </tr>\n",
              "  </thead>\n",
              "  <tbody>\n",
              "    <tr>\n",
              "      <th>0</th>\n",
              "      <td>NaN</td>\n",
              "      <td>NaN</td>\n",
              "    </tr>\n",
              "    <tr>\n",
              "      <th>1</th>\n",
              "      <td>49.5</td>\n",
              "      <td>13.5</td>\n",
              "    </tr>\n",
              "    <tr>\n",
              "      <th>2</th>\n",
              "      <td>45.0</td>\n",
              "      <td>29.0</td>\n",
              "    </tr>\n",
              "    <tr>\n",
              "      <th>3</th>\n",
              "      <td>16.5</td>\n",
              "      <td>58.0</td>\n",
              "    </tr>\n",
              "    <tr>\n",
              "      <th>4</th>\n",
              "      <td>26.0</td>\n",
              "      <td>59.0</td>\n",
              "    </tr>\n",
              "    <tr>\n",
              "      <th>sum</th>\n",
              "      <td>100.0</td>\n",
              "      <td>120.5</td>\n",
              "    </tr>\n",
              "  </tbody>\n",
              "</table>\n",
              "</div>"
            ],
            "text/plain": [
              "         a      b\n",
              "0      NaN    NaN\n",
              "1     49.5   13.5\n",
              "2     45.0   29.0\n",
              "3     16.5   58.0\n",
              "4     26.0   59.0\n",
              "sum  100.0  120.5"
            ]
          },
          "metadata": {},
          "execution_count": 11
        }
      ]
    },
    {
      "cell_type": "code",
      "metadata": {
        "colab": {
          "base_uri": "https://localhost:8080/"
        },
        "id": "2Aj7IQfdlAyc",
        "outputId": "6abca42c-71dd-4066-a82f-c9ac2fa6c27f"
      },
      "source": [
        "df.groupby('weekday').apply(lambda x: x['total']/x['total'].sum())"
      ],
      "execution_count": 12,
      "outputs": [
        {
          "output_type": "execute_result",
          "data": {
            "text/plain": [
              "weekday   \n",
              "N        3    0.511765\n",
              "         4    0.488235\n",
              "Y        0    0.212766\n",
              "         1    0.457447\n",
              "         2    0.329787\n",
              "Name: total, dtype: float64"
            ]
          },
          "metadata": {},
          "execution_count": 12
        }
      ]
    },
    {
      "cell_type": "code",
      "metadata": {
        "id": "IOkt8r8zlFVT"
      },
      "source": [
        ""
      ],
      "execution_count": null,
      "outputs": []
    }
  ]
}