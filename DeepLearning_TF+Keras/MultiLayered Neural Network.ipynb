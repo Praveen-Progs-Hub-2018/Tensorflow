{
 "cells": [
  {
   "cell_type": "markdown",
   "metadata": {
    "colab_type": "text",
    "id": "86h3t03jDtiP"
   },
   "source": [
    "# Assaginment 12 DeepLearning for MultiLayered Neural Network"
   ]
  },
  {
   "cell_type": "markdown",
   "metadata": {
    "colab_type": "text",
    "id": "UKGfdhPDtQ4F"
   },
   "source": [
    "Objective : Wokring with Keras and Experiment with Different Nueral Network Architectures.\n",
    "\n",
    "\n",
    "Dataset : Mnist DataSet which is avialalbe in Keras Dataset by default.\n",
    "\n",
    "Developer Details : PraveenAI\n",
    "\n",
    "Source Details : Most of the code is extracted from https://keras.io/losses/ and Base Archictural Refference is from the code shared by Varma from Applied AI."
   ]
  },
  {
   "cell_type": "markdown",
   "metadata": {
    "colab_type": "text",
    "id": "vmEQsrwqzLGm"
   },
   "source": [
    "\n",
    "\n",
    "## Keras \n",
    "\n",
    "**datasets.mnist.load_data()** : \n",
    "> Can load the Mnist datsets which is available by default provided by  Keras.\n",
    "  \n",
    "**np_utils.to_categorical** :\n",
    "> This will help to Converts a class vector (integers) to binary class matrix.(like one-hot coding)\n",
    "\n",
    "\n",
    "**Sequential()**\n",
    "> To start initializing the linear stack of layers.\n",
    "> we can create a Sequential model by passing a list of layer instances to the constructor:\n",
    "\n",
    "\n",
    "**add(Dense())**\n",
    "> This means we are Adding a Layer to the Sequesnce. \n",
    "\n",
    "> input_dim = this is only for the first layer, so theat NN will understand the Input dimensions\n",
    "\n",
    "> activation= We provide the Activation function inside the Neurons \n",
    "\n",
    "> input_shape =  No of nuerons inside is depends on the input parametres to the Dense  \n",
    "\n",
    "> kernel_initializer = helps to Initialize the weights for each connection from one layer to another layer.\n",
    "\n",
    "**Dropout**\n",
    "> Fraction of the input units to drop\n",
    "\n",
    "\n",
    "**BatchNormalization()**\n",
    "> If we have to Many Layer, there might be change Vanishing Gradients Problem.\n",
    "\n",
    "> To avoid to some extent, Batch Normalization will Normalize the activations of the previous layer at each batch.\n",
    "\n",
    "> It will make the mean to 0 and Std Devaiotion to 1.\n",
    "\n",
    "**compile()**\n",
    "> This compiles the Sequence that we defined with accpeting some input params \n",
    "\n",
    "> optimizer = This helps in controling the Learning Rate of the Weights.\n",
    "\n",
    "> loss= we have to input loss function based on the type of that problemset we are working on.\n",
    "\n",
    "> metrics= we have to input the Perfomance metric that we are looking for \n"
   ]
  },
  {
   "cell_type": "code",
   "execution_count": 0,
   "metadata": {
    "colab": {},
    "colab_type": "code",
    "id": "60CvlOS1nE_o"
   },
   "outputs": [],
   "source": [
    "from keras.utils import np_utils\n",
    "from keras.datasets import mnist\n",
    "import seaborn as sns\n",
    "from keras.initializers import RandomNormal\n",
    "from warnings import catch_warnings"
   ]
  },
  {
   "cell_type": "code",
   "execution_count": 0,
   "metadata": {
    "colab": {
     "base_uri": "https://localhost:8080/",
     "height": 54
    },
    "colab_type": "code",
    "id": "IZIjTAQSq0fy",
    "outputId": "8371eb97-d1ca-462f-bdc6-8769b5c74882"
   },
   "outputs": [
    {
     "name": "stdout",
     "output_type": "stream",
     "text": [
      "Number of training examples : 60000 and each image is of shape (28, 28)\n",
      "Number of training examples : 10000 and each image is of shape (28, 28)\n"
     ]
    }
   ],
   "source": [
    "(X_train, y_train), (X_test, y_test) = mnist.load_data()\n",
    "print(\"Number of training examples :\", X_train.shape[0], \"and each image is of shape (%d, %d)\"%(X_train.shape[1], X_train.shape[2]))\n",
    "print(\"Number of training examples :\", X_test.shape[0], \"and each image is of shape (%d, %d)\"%(X_test.shape[1], X_test.shape[2]))"
   ]
  },
  {
   "cell_type": "markdown",
   "metadata": {
    "colab_type": "text",
    "id": "dlow2OwntDOR"
   },
   "source": [
    "**Reshape the DataSet Dimensinality**"
   ]
  },
  {
   "cell_type": "code",
   "execution_count": 0,
   "metadata": {
    "colab": {
     "base_uri": "https://localhost:8080/",
     "height": 54
    },
    "colab_type": "code",
    "id": "7RvjU5HMswMM",
    "outputId": "1297670f-13c8-4e2f-e86b-60bc0c3cf487"
   },
   "outputs": [
    {
     "name": "stdout",
     "output_type": "stream",
     "text": [
      "Number of training examples : 60000 and each image is of shape (784)\n",
      "Number of training examples : 10000 and each image is of shape (784)\n"
     ]
    }
   ],
   "source": [
    "# if you observe the input shape its 2 dimensional vector\n",
    "# for each image we have a (28*28) vector\n",
    "# we will convert the (28*28) vector into single dimensional vector of 1 * 784 \n",
    "\n",
    "X_train = X_train.reshape(X_train.shape[0], X_train.shape[1]*X_train.shape[2]) \n",
    "X_test = X_test.reshape(X_test.shape[0], X_test.shape[1]*X_test.shape[2])\n",
    "\n",
    "\n",
    "\n",
    "# after converting the input images from 3d to 2d vectors\n",
    "print(\"Number of training examples :\", X_train.shape[0], \"and each image is of shape (%d)\"%(X_train.shape[1]))\n",
    "print(\"Number of training examples :\", X_test.shape[0], \"and each image is of shape (%d)\"%(X_test.shape[1]))"
   ]
  },
  {
   "cell_type": "markdown",
   "metadata": {
    "colab_type": "text",
    "id": "TB5Ioi4Atp-H"
   },
   "source": [
    "**Data Normlization**"
   ]
  },
  {
   "cell_type": "code",
   "execution_count": 0,
   "metadata": {
    "colab": {},
    "colab_type": "code",
    "id": "AIPDFB5UswWw"
   },
   "outputs": [],
   "source": [
    "# if we observe the above matrix each cell is having a value between 0-255\n",
    "# before we move to apply machine learning algorithms lets try to normalize the data\n",
    "# X => (X - Xmin)/(Xmax-Xmin) = X/255\n",
    "\n",
    "X_train = X_train/255\n",
    "X_test = X_test/255"
   ]
  },
  {
   "cell_type": "markdown",
   "metadata": {
    "colab_type": "text",
    "id": "r23LHNP9t_jb"
   },
   "source": [
    "**Convert Labels to Categories for Softmax Activation(One-Hot coding)**"
   ]
  },
  {
   "cell_type": "code",
   "execution_count": 0,
   "metadata": {
    "colab": {
     "base_uri": "https://localhost:8080/",
     "height": 54
    },
    "colab_type": "code",
    "id": "GdgZzjQ-uCe6",
    "outputId": "c60b83b0-987c-44c6-b43c-1cf6f46b4c96"
   },
   "outputs": [
    {
     "name": "stdout",
     "output_type": "stream",
     "text": [
      "Class label of first image : 5\n",
      "After converting the output into a vector :  [0. 0. 0. 0. 0. 1. 0. 0. 0. 0.]\n"
     ]
    }
   ],
   "source": [
    "# here we are having a class number for each image\n",
    "print(\"Class label of first image :\", y_train[0])\n",
    "\n",
    "# lets convert this into a 10 dimensional vector\n",
    "# ex: consider an image is 5 convert it into 5 => [0, 0, 0, 0, 0, 1, 0, 0, 0, 0]\n",
    "# this conversion needed for MLPs \n",
    "\n",
    "Y_train = np_utils.to_categorical(y_train, 10) \n",
    "Y_test = np_utils.to_categorical(y_test, 10)\n",
    "\n",
    "print(\"After converting the output into a vector : \",Y_train[0])"
   ]
  },
  {
   "cell_type": "markdown",
   "metadata": {
    "colab_type": "text",
    "id": "Hys0Hi42r1Z0"
   },
   "source": [
    "**Plot Train Los and Test Loss Vs Epochs**"
   ]
  },
  {
   "cell_type": "code",
   "execution_count": 0,
   "metadata": {
    "colab": {},
    "colab_type": "code",
    "id": "G1ahnxZ4r8Ps"
   },
   "outputs": [],
   "source": [
    "%matplotlib inline\n",
    "# https://gist.github.com/greydanus/f6eee59eaf1d90fcb3b534a25362cea4\n",
    "# https://stackoverflow.com/a/14434334\n",
    "# this function is used to update the plots for each epoch and error\n",
    "import matplotlib.pyplot as plt\n",
    "import numpy as np\n",
    "import time\n",
    "\n",
    "def plt_dynamic(x, vy, ty, ax, colors=['b']):\n",
    "    ax.plot(x, vy, 'b', label=\"Validation Loss\")\n",
    "    ax.plot(x, ty, 'r', label=\"Train Loss\")\n",
    "    plt.legend()\n",
    "    plt.grid()\n",
    "    fig.canvas.draw()"
   ]
  },
  {
   "cell_type": "code",
   "execution_count": 0,
   "metadata": {
    "colab": {},
    "colab_type": "code",
    "id": "aD87sLqJq0on"
   },
   "outputs": [],
   "source": [
    "from keras.models import Sequential \n",
    "from keras.layers import Dense, Activation \n",
    "Total_SUMRY ={}"
   ]
  },
  {
   "cell_type": "markdown",
   "metadata": {
    "colab_type": "text",
    "id": "7gbi_ycmHnVa"
   },
   "source": [
    "Below we are gonna Experiment with three Different Architecture on Mnist Dataset.\n",
    "\n",
    "We are consdiering Accuracy as perfomance metric.\n",
    "\n"
   ]
  },
  {
   "cell_type": "markdown",
   "metadata": {
    "colab_type": "text",
    "id": "0TOcthtzq1cU"
   },
   "source": [
    "# Architecture 1 :  784-784-424-10 (2 Hidden Layer with 784,424 Relu)\n",
    "\n",
    ">>**MLP + Relu activation + AdamOtpimizer **\n",
    "\n",
    "\n",
    "\n"
   ]
  },
  {
   "cell_type": "code",
   "execution_count": 0,
   "metadata": {
    "colab": {},
    "colab_type": "code",
    "id": "c8DhfQArlwid"
   },
   "outputs": [],
   "source": [
    "#model parameters\n",
    "\n",
    "batch_size = 128\n",
    "nb_epoch = 20\n",
    "\n",
    "input_dim = X_train.shape[1] #784\n",
    "H_Layer_1 = 784\n",
    "H_Layer_2 = 424\n",
    "output_dim = 10"
   ]
  },
  {
   "cell_type": "code",
   "execution_count": 0,
   "metadata": {
    "colab": {
     "base_uri": "https://localhost:8080/",
     "height": 472
    },
    "colab_type": "code",
    "id": "XvDontRilziL",
    "outputId": "a4d0d4b0-871b-44e5-8b3d-96520a353408"
   },
   "outputs": [
    {
     "name": "stdout",
     "output_type": "stream",
     "text": [
      "_________________________________________________________________\n",
      "Layer (type)                 Output Shape              Param #   \n",
      "=================================================================\n",
      "dense_47 (Dense)             (None, 784)               615440    \n",
      "_________________________________________________________________\n",
      "dropout_28 (Dropout)         (None, 784)               0         \n",
      "_________________________________________________________________\n",
      "dense_48 (Dense)             (None, 784)               615440    \n",
      "_________________________________________________________________\n",
      "dropout_29 (Dropout)         (None, 784)               0         \n",
      "_________________________________________________________________\n",
      "batch_normalization_24 (Batc (None, 784)               3136      \n",
      "_________________________________________________________________\n",
      "dense_49 (Dense)             (None, 424)               332840    \n",
      "_________________________________________________________________\n",
      "dropout_30 (Dropout)         (None, 424)               0         \n",
      "_________________________________________________________________\n",
      "batch_normalization_25 (Batc (None, 424)               1696      \n",
      "_________________________________________________________________\n",
      "dense_50 (Dense)             (None, 10)                4250      \n",
      "=================================================================\n",
      "Total params: 1,572,802\n",
      "Trainable params: 1,570,386\n",
      "Non-trainable params: 2,416\n",
      "_________________________________________________________________\n"
     ]
    }
   ],
   "source": [
    "model_1 = Sequential()\n",
    "model_1.add(Dense(input_dim ,activation='relu',input_shape=(input_dim,)))\n",
    "model_1.add(Dropout(0.1))\n",
    "model_1.add(Dense(H_Layer_1, activation='relu'))\n",
    "model_1.add(Dropout(0.3))\n",
    "model_1.add(BatchNormalization())\n",
    "model_1.add(Dense(H_Layer_2, activation='relu'))\n",
    "model_1.add(Dropout(0.5))\n",
    "model_1.add(BatchNormalization())\n",
    "model_1.add(Dense(output_dim, activation='softmax'))\n",
    "model_1.summary()"
   ]
  },
  {
   "cell_type": "markdown",
   "metadata": {
    "colab_type": "text",
    "id": "raCAR8-krb3L"
   },
   "source": [
    "We have initialized our model with  batch_size is 128 and 20  no of epoch \n",
    "\n",
    "1st Layer is with 784 Relu activation Function and the 2nd Layer with  424 \n"
   ]
  },
  {
   "cell_type": "code",
   "execution_count": 0,
   "metadata": {
    "colab": {
     "base_uri": "https://localhost:8080/",
     "height": 763
    },
    "colab_type": "code",
    "id": "X2I599h9mU6Q",
    "outputId": "2424ef20-9b7b-4ae9-fe5c-c9da96e189f5"
   },
   "outputs": [
    {
     "name": "stdout",
     "output_type": "stream",
     "text": [
      "Train on 60000 samples, validate on 10000 samples\n",
      "Epoch 1/20\n",
      "60000/60000 [==============================] - 26s 438us/step - loss: 0.2731 - acc: 0.9158 - val_loss: 0.1306 - val_acc: 0.9600\n",
      "Epoch 2/20\n",
      "60000/60000 [==============================] - 23s 390us/step - loss: 0.1186 - acc: 0.9644 - val_loss: 0.0902 - val_acc: 0.9719\n",
      "Epoch 3/20\n",
      "60000/60000 [==============================] - 23s 389us/step - loss: 0.0856 - acc: 0.9735 - val_loss: 0.0855 - val_acc: 0.9734\n",
      "Epoch 4/20\n",
      "60000/60000 [==============================] - 23s 390us/step - loss: 0.0665 - acc: 0.9792 - val_loss: 0.0725 - val_acc: 0.9769\n",
      "Epoch 5/20\n",
      "60000/60000 [==============================] - 23s 390us/step - loss: 0.0552 - acc: 0.9824 - val_loss: 0.0635 - val_acc: 0.9799\n",
      "Epoch 6/20\n",
      "60000/60000 [==============================] - 24s 392us/step - loss: 0.0473 - acc: 0.9853 - val_loss: 0.0730 - val_acc: 0.9776\n",
      "Epoch 7/20\n",
      "60000/60000 [==============================] - 23s 388us/step - loss: 0.0422 - acc: 0.9864 - val_loss: 0.0709 - val_acc: 0.9802\n",
      "Epoch 8/20\n",
      "60000/60000 [==============================] - 23s 389us/step - loss: 0.0365 - acc: 0.9884 - val_loss: 0.0653 - val_acc: 0.9813\n",
      "Epoch 9/20\n",
      "60000/60000 [==============================] - 23s 383us/step - loss: 0.0343 - acc: 0.9883 - val_loss: 0.0732 - val_acc: 0.9789\n",
      "Epoch 10/20\n",
      "60000/60000 [==============================] - 23s 382us/step - loss: 0.0295 - acc: 0.9903 - val_loss: 0.0623 - val_acc: 0.9832\n",
      "Epoch 11/20\n",
      "60000/60000 [==============================] - 23s 388us/step - loss: 0.0287 - acc: 0.9910 - val_loss: 0.0691 - val_acc: 0.9806\n",
      "Epoch 12/20\n",
      "60000/60000 [==============================] - 23s 387us/step - loss: 0.0245 - acc: 0.9913 - val_loss: 0.0697 - val_acc: 0.9820\n",
      "Epoch 13/20\n",
      "60000/60000 [==============================] - 23s 386us/step - loss: 0.0231 - acc: 0.9927 - val_loss: 0.0760 - val_acc: 0.9807\n",
      "Epoch 14/20\n",
      "60000/60000 [==============================] - 23s 384us/step - loss: 0.0231 - acc: 0.9926 - val_loss: 0.0710 - val_acc: 0.9807\n",
      "Epoch 15/20\n",
      "60000/60000 [==============================] - 24s 397us/step - loss: 0.0204 - acc: 0.9936 - val_loss: 0.0610 - val_acc: 0.9835\n",
      "Epoch 16/20\n",
      "60000/60000 [==============================] - 24s 396us/step - loss: 0.0175 - acc: 0.9947 - val_loss: 0.0776 - val_acc: 0.9814\n",
      "Epoch 17/20\n",
      "60000/60000 [==============================] - 24s 393us/step - loss: 0.0195 - acc: 0.9938 - val_loss: 0.0616 - val_acc: 0.9842\n",
      "Epoch 18/20\n",
      "60000/60000 [==============================] - 24s 395us/step - loss: 0.0165 - acc: 0.9948 - val_loss: 0.0736 - val_acc: 0.9816\n",
      "Epoch 19/20\n",
      "60000/60000 [==============================] - 23s 386us/step - loss: 0.0175 - acc: 0.9941 - val_loss: 0.0636 - val_acc: 0.9847\n",
      "Epoch 20/20\n",
      "60000/60000 [==============================] - 23s 382us/step - loss: 0.0151 - acc: 0.9954 - val_loss: 0.0646 - val_acc: 0.9836\n"
     ]
    }
   ],
   "source": [
    "model_1.compile(optimizer='adam', loss='categorical_crossentropy', metrics=['accuracy']) \n",
    "history = model_1.fit(X_train, Y_train, batch_size=batch_size, epochs=nb_epoch, verbose=1, validation_data=(X_test, Y_test))"
   ]
  },
  {
   "cell_type": "code",
   "execution_count": 0,
   "metadata": {
    "colab": {
     "base_uri": "https://localhost:8080/",
     "height": 339
    },
    "colab_type": "code",
    "id": "3c1dqviVnZaS",
    "outputId": "70e58203-bdfc-4ef1-9963-6db5ba751cc1"
   },
   "outputs": [
    {
     "name": "stdout",
     "output_type": "stream",
     "text": [
      "Test score   : 0.06464198227513315\n",
      "Test accuracy: 0.9836\n",
      "Train accuracy: 0.9982666666666666\n"
     ]
    },
    {
     "data": {
      "image/png": "[encoded data removed]",
      "text/plain": [
       "<Figure size 432x288 with 1 Axes>"
      ]
     },
     "metadata": {
      "tags": []
     },
     "output_type": "display_data"
    }
   ],
   "source": [
    "score1_tst = model_1.evaluate(X_test, Y_test, verbose=0) \n",
    "print('Test score   :', score1_tst[0]) \n",
    "print('Test accuracy:', score1_tst[1])\n",
    "\n",
    "score1_trn = model_1.evaluate(X_train, Y_train, verbose=0) \n",
    "print('Train accuracy:', score1_trn[1])\n",
    "\n",
    "\n",
    "fig,ax = plt.subplots(1,1)\n",
    "ax.set_xlabel('epoch') ; ax.set_ylabel('Categorical Crossentropy Loss')\n",
    "x = list(range(1,nb_epoch+1))\n",
    "vy = history.history['val_loss']\n",
    "ty = history.history['loss']\n",
    "plt_dynamic(x, vy, ty, ax)\n",
    "\n",
    "Total_SUMRY[1]=[\"Model1\", \"2\", \"784-424\" ,\"Relu\",\"Adam\",\"No\",\"No-Initialization\",score1_trn[1],score1_tst[1]]"
   ]
  },
  {
   "cell_type": "markdown",
   "metadata": {
    "colab_type": "text",
    "id": "8tpPFocgBicZ"
   },
   "source": [
    "\n",
    "As we notice, Loos is so high for Train Data at intial Epochs.\n",
    "\n",
    "Test Loss for lesser than the Validation lost till the first five epochs.\n",
    "\n",
    "For every Gradient the loss is converging, but form 15th epoch it is stable for both Test  and Validation.\n",
    "\n",
    "At the 4th epoc bot values are same, 0.18."
   ]
  },
  {
   "cell_type": "markdown",
   "metadata": {
    "colab_type": "text",
    "id": "pR5ZTSk6-Z4G"
   },
   "source": [
    "**Model Performance**\n",
    "\n",
    "Test accuracy: 0.9836 and Train accuracy: 0.999\n",
    "\n",
    "Seems it is Overfitting, since both accuracies are converging,  we can not say it.\n",
    "\n",
    "it is Overfitting, if the Test accuracy is very low than Train accuracy is so high.\n",
    "\n",
    "Hence, the Above Architecture is Performing very Well.\n"
   ]
  },
  {
   "cell_type": "markdown",
   "metadata": {
    "colab_type": "text",
    "id": "X1BMGQug-PDH"
   },
   "source": [
    "\n",
    "# Architecture 2: \n",
    "## **784-524-462-128-10 (3 Hidden Layer with 524,462,128 Relu)**\n",
    "\n",
    ">>**MLP + Relu Activation + adam  Optimizer + RandomNormal Initialization**"
   ]
  },
  {
   "cell_type": "code",
   "execution_count": 0,
   "metadata": {
    "colab": {},
    "colab_type": "code",
    "id": "my5tjhol01Dj"
   },
   "outputs": [],
   "source": [
    "#model parameters\n",
    "\n",
    "batch_size = 200\n",
    "nb_epoch = 20\n",
    "\n",
    "input_dim = X_train.shape[1] #784\n",
    "H_Layer_1 = 524\n",
    "H_Layer_2 = 462\n",
    "H_Layer_3 = 128\n",
    "output_dim = 10"
   ]
  },
  {
   "cell_type": "code",
   "execution_count": 0,
   "metadata": {
    "colab": {
     "base_uri": "https://localhost:8080/",
     "height": 581
    },
    "colab_type": "code",
    "id": "U94dFA57-PDS",
    "outputId": "42b3c2b1-8aef-498d-d28b-f39c71fe161f"
   },
   "outputs": [
    {
     "name": "stdout",
     "output_type": "stream",
     "text": [
      "_________________________________________________________________\n",
      "Layer (type)                 Output Shape              Param #   \n",
      "=================================================================\n",
      "dense_51 (Dense)             (None, 784)               615440    \n",
      "_________________________________________________________________\n",
      "dropout_31 (Dropout)         (None, 784)               0         \n",
      "_________________________________________________________________\n",
      "dense_52 (Dense)             (None, 524)               411340    \n",
      "_________________________________________________________________\n",
      "dropout_32 (Dropout)         (None, 524)               0         \n",
      "_________________________________________________________________\n",
      "batch_normalization_26 (Batc (None, 524)               2096      \n",
      "_________________________________________________________________\n",
      "dense_53 (Dense)             (None, 462)               242550    \n",
      "_________________________________________________________________\n",
      "dropout_33 (Dropout)         (None, 462)               0         \n",
      "_________________________________________________________________\n",
      "batch_normalization_27 (Batc (None, 462)               1848      \n",
      "_________________________________________________________________\n",
      "dense_54 (Dense)             (None, 462)               213906    \n",
      "_________________________________________________________________\n",
      "dropout_34 (Dropout)         (None, 462)               0         \n",
      "_________________________________________________________________\n",
      "batch_normalization_28 (Batc (None, 462)               1848      \n",
      "_________________________________________________________________\n",
      "dense_55 (Dense)             (None, 10)                4630      \n",
      "=================================================================\n",
      "Total params: 1,493,658\n",
      "Trainable params: 1,490,762\n",
      "Non-trainable params: 2,896\n",
      "_________________________________________________________________\n"
     ]
    }
   ],
   "source": [
    "# https://arxiv.org/pdf/1707.09725.pdf#page=95\n",
    "# for relu layers\n",
    "# If we sample weights from a normal distribution N(0,σ) we satisfy this condition with σ=√(2/(ni). \n",
    "# hi =>  σ=√(2/(fan_in) \n",
    "# out =>  σ=√(2/(fan_in+1)\n",
    "model_2 = Sequential()\n",
    "model_2.add(Dense(input_dim ,activation='relu',input_shape=(input_dim,), kernel_initializer=RandomNormal(mean=0.0, stddev=0.0618, seed=None)))\n",
    "model_2.add(Dropout(0.1))\n",
    "model_2.add(Dense(H_Layer_1, activation='relu', kernel_initializer=RandomNormal(mean=0.0, stddev=0.0633, seed=None)))\n",
    "model_2.add(Dropout(0.2))\n",
    "model_2.add(BatchNormalization())\n",
    "model_2.add(Dense(H_Layer_2, activation='relu', kernel_initializer=RandomNormal(mean=0.0, stddev=0.0658, seed=None)))\n",
    "model_2.add(Dropout(0.45))\n",
    "model_2.add(BatchNormalization())\n",
    "model_2.add(Dense(H_Layer_2, activation='relu', kernel_initializer=RandomNormal(mean=0.0, stddev=0.125, seed=None)))\n",
    "model_2.add(Dropout(0.5))\n",
    "model_2.add(BatchNormalization())\n",
    "model_2.add(Dense(output_dim, activation='softmax'))\n",
    "model_2.summary()"
   ]
  },
  {
   "cell_type": "code",
   "execution_count": 0,
   "metadata": {
    "colab": {
     "base_uri": "https://localhost:8080/",
     "height": 763
    },
    "colab_type": "code",
    "id": "_077zrCz-PDZ",
    "outputId": "dca2a114-67ee-4a48-8aaf-d272a5be7131"
   },
   "outputs": [
    {
     "name": "stdout",
     "output_type": "stream",
     "text": [
      "Train on 60000 samples, validate on 10000 samples\n",
      "Epoch 1/20\n",
      "60000/60000 [==============================] - 23s 385us/step - loss: 0.4241 - acc: 0.8682 - val_loss: 0.1256 - val_acc: 0.9605\n",
      "Epoch 2/20\n",
      "60000/60000 [==============================] - 20s 336us/step - loss: 0.1519 - acc: 0.9547 - val_loss: 0.1005 - val_acc: 0.9679\n",
      "Epoch 3/20\n",
      "60000/60000 [==============================] - 20s 338us/step - loss: 0.1045 - acc: 0.9681 - val_loss: 0.0835 - val_acc: 0.9744\n",
      "Epoch 4/20\n",
      "60000/60000 [==============================] - 20s 338us/step - loss: 0.0785 - acc: 0.9768 - val_loss: 0.0724 - val_acc: 0.9787\n",
      "Epoch 5/20\n",
      "60000/60000 [==============================] - 20s 338us/step - loss: 0.0612 - acc: 0.9811 - val_loss: 0.0766 - val_acc: 0.9786\n",
      "Epoch 6/20\n",
      "60000/60000 [==============================] - 20s 338us/step - loss: 0.0504 - acc: 0.9845 - val_loss: 0.0740 - val_acc: 0.9792\n",
      "Epoch 7/20\n",
      "60000/60000 [==============================] - 20s 338us/step - loss: 0.0448 - acc: 0.9859 - val_loss: 0.0684 - val_acc: 0.9815\n",
      "Epoch 8/20\n",
      "60000/60000 [==============================] - 21s 343us/step - loss: 0.0424 - acc: 0.9870 - val_loss: 0.0694 - val_acc: 0.9811\n",
      "Epoch 9/20\n",
      "60000/60000 [==============================] - 21s 343us/step - loss: 0.0343 - acc: 0.9892 - val_loss: 0.0744 - val_acc: 0.9797\n",
      "Epoch 10/20\n",
      "60000/60000 [==============================] - 21s 343us/step - loss: 0.0318 - acc: 0.9903 - val_loss: 0.0791 - val_acc: 0.9787\n",
      "Epoch 11/20\n",
      "60000/60000 [==============================] - 21s 345us/step - loss: 0.0298 - acc: 0.9903 - val_loss: 0.0632 - val_acc: 0.9820\n",
      "Epoch 12/20\n",
      "60000/60000 [==============================] - 21s 343us/step - loss: 0.0252 - acc: 0.9918 - val_loss: 0.0693 - val_acc: 0.9819\n",
      "Epoch 13/20\n",
      "60000/60000 [==============================] - 20s 340us/step - loss: 0.0239 - acc: 0.9927 - val_loss: 0.0722 - val_acc: 0.9825\n",
      "Epoch 14/20\n",
      "60000/60000 [==============================] - 20s 340us/step - loss: 0.0260 - acc: 0.9917 - val_loss: 0.0682 - val_acc: 0.9822\n",
      "Epoch 15/20\n",
      "60000/60000 [==============================] - 20s 342us/step - loss: 0.0217 - acc: 0.9929 - val_loss: 0.0681 - val_acc: 0.9820\n",
      "Epoch 16/20\n",
      "60000/60000 [==============================] - 20s 340us/step - loss: 0.0208 - acc: 0.9934 - val_loss: 0.0776 - val_acc: 0.9807\n",
      "Epoch 17/20\n",
      "60000/60000 [==============================] - 21s 342us/step - loss: 0.0199 - acc: 0.9940 - val_loss: 0.0722 - val_acc: 0.9812\n",
      "Epoch 18/20\n",
      "60000/60000 [==============================] - 21s 342us/step - loss: 0.0171 - acc: 0.9945 - val_loss: 0.0735 - val_acc: 0.9823\n",
      "Epoch 19/20\n",
      "60000/60000 [==============================] - 20s 341us/step - loss: 0.0165 - acc: 0.9948 - val_loss: 0.0752 - val_acc: 0.9814\n",
      "Epoch 20/20\n",
      "60000/60000 [==============================] - 21s 343us/step - loss: 0.0161 - acc: 0.9948 - val_loss: 0.0781 - val_acc: 0.9834\n"
     ]
    }
   ],
   "source": [
    "model_2.compile(optimizer='adam', loss='categorical_crossentropy', metrics=['accuracy']) \n",
    "history = model_2.fit(X_train, Y_train, batch_size=batch_size, epochs=nb_epoch, verbose=1, validation_data=(X_test, Y_test))"
   ]
  },
  {
   "cell_type": "code",
   "execution_count": 0,
   "metadata": {
    "colab": {
     "base_uri": "https://localhost:8080/",
     "height": 356
    },
    "colab_type": "code",
    "id": "30eOHIKDq0za",
    "outputId": "b1f9be04-da27-4599-d04b-d6df0b424b43"
   },
   "outputs": [
    {
     "name": "stdout",
     "output_type": "stream",
     "text": [
      "Test score   : 0.07809708171830716\n",
      "Test accuracy: 0.9834\n",
      "Train score   : 0.005488861975786434\n",
      "Train accuracy: 0.9982\n"
     ]
    },
    {
     "data": {
      "image/png": "[encoded data removed]",
      "text/plain": [
       "<Figure size 432x288 with 1 Axes>"
      ]
     },
     "metadata": {
      "tags": []
     },
     "output_type": "display_data"
    }
   ],
   "source": [
    "score2_tst = model_2.evaluate(X_test, Y_test, verbose=0) \n",
    "print('Test score   :', score2_tst[0]) \n",
    "print('Test accuracy:', score2_tst[1])\n",
    "\n",
    "score2_trn = model_2.evaluate(X_train, Y_train, verbose=0) \n",
    "print('Train score   :', score2_trn[0]) \n",
    "print('Train accuracy:', score2_trn[1])\n",
    "\n",
    "\n",
    "fig,ax = plt.subplots(1,1)\n",
    "ax.set_xlabel('epoch') ; ax.set_ylabel('Categorical Crossentropy Loss')\n",
    "\n",
    "x = list(range(1,nb_epoch+1))\n",
    "vy = history.history['val_loss']\n",
    "ty = history.history['loss']\n",
    "plt_dynamic(x, vy, ty, ax)\n",
    "\n",
    "\n",
    "Total_SUMRY[2]=[\"Model2\", \"3\", \"524-462-128\" ,\"Relu\",\"Adam\",\"Yes\",\"Random Normal\",score2_trn[1],score2_tst[1]]"
   ]
  },
  {
   "cell_type": "markdown",
   "metadata": {
    "colab_type": "text",
    "id": "sYjCkdnKC-cS"
   },
   "source": [
    "\n",
    "As we notice, Los is so high for Train Data at intial Epochs.\n",
    "\n",
    "Test Loss for lesser and constan for most of the epoch with very litile changes.\n",
    "\n",
    "For every Gradient the validation loss is converging.\n",
    "Even form 15th epoch also, it is stable for both Test  and Validation.\n",
    "\n",
    "At the 4th epoc bot values are same, 0.08."
   ]
  },
  {
   "cell_type": "markdown",
   "metadata": {
    "colab_type": "text",
    "id": "WsWM0HmyC-cV"
   },
   "source": [
    "**Model Performance**\n",
    "\n",
    "Test accuracy: 0.9834 and Train accuracy: 0.992\n",
    "\n",
    "Seems it is Overfitting, since both accuracies are with small difference.,  we can not say it.\n",
    "\n",
    "It is Overfitting, if the Test accuracy is very low and the Train accuracy is so high.\n",
    "\n",
    "Hence, the Above Architecture is Performing very Well.\n"
   ]
  },
  {
   "cell_type": "markdown",
   "metadata": {
    "colab_type": "text",
    "id": "MNyqstvmo9XU"
   },
   "source": [
    "# Architecture 3 :  784-500-425-350-124-64-10\n",
    "\n",
    ">>**MLP + Relu Activation + Adam Optimizer + BatchNormalization + DropOut **\n"
   ]
  },
  {
   "cell_type": "code",
   "execution_count": 0,
   "metadata": {
    "colab": {},
    "colab_type": "code",
    "id": "pVr6SKJeyOKG"
   },
   "outputs": [],
   "source": [
    "from keras.layers import Dropout\n",
    "from keras.layers.normalization import BatchNormalization"
   ]
  },
  {
   "cell_type": "code",
   "execution_count": 0,
   "metadata": {
    "colab": {},
    "colab_type": "code",
    "id": "OiTSw3yVo9XY"
   },
   "outputs": [],
   "source": [
    "#model parameters\n",
    "\n",
    "batch_size = 200\n",
    "nb_epoch = 20\n",
    "\n",
    "input_dim  = X_train.shape[1] #784\n",
    "H_Layer_1  = 500\n",
    "H_Layer_2  = 425\n",
    "H_Layer_3  = 350\n",
    "H_Layer_4  = 124\n",
    "H_Layer_5  = 64\n",
    "output_dim = 10 "
   ]
  },
  {
   "cell_type": "code",
   "execution_count": 0,
   "metadata": {
    "colab": {
     "base_uri": "https://localhost:8080/",
     "height": 763
    },
    "colab_type": "code",
    "id": "Wx5hAAZGo9Xg",
    "outputId": "3b6ec1a2-9e8d-48e5-dbf6-104f7ce926a8"
   },
   "outputs": [
    {
     "name": "stdout",
     "output_type": "stream",
     "text": [
      "_________________________________________________________________\n",
      "Layer (type)                 Output Shape              Param #   \n",
      "=================================================================\n",
      "dense_56 (Dense)             (None, 784)               615440    \n",
      "_________________________________________________________________\n",
      "dense_57 (Dense)             (None, 500)               392500    \n",
      "_________________________________________________________________\n",
      "dropout_35 (Dropout)         (None, 500)               0         \n",
      "_________________________________________________________________\n",
      "dense_58 (Dense)             (None, 425)               212925    \n",
      "_________________________________________________________________\n",
      "dropout_36 (Dropout)         (None, 425)               0         \n",
      "_________________________________________________________________\n",
      "batch_normalization_29 (Batc (None, 425)               1700      \n",
      "_________________________________________________________________\n",
      "dense_59 (Dense)             (None, 350)               149100    \n",
      "_________________________________________________________________\n",
      "batch_normalization_30 (Batc (None, 350)               1400      \n",
      "_________________________________________________________________\n",
      "dropout_37 (Dropout)         (None, 350)               0         \n",
      "_________________________________________________________________\n",
      "batch_normalization_31 (Batc (None, 350)               1400      \n",
      "_________________________________________________________________\n",
      "dense_60 (Dense)             (None, 124)               43524     \n",
      "_________________________________________________________________\n",
      "batch_normalization_32 (Batc (None, 124)               496       \n",
      "_________________________________________________________________\n",
      "dropout_38 (Dropout)         (None, 124)               0         \n",
      "_________________________________________________________________\n",
      "dense_61 (Dense)             (None, 64)                8000      \n",
      "_________________________________________________________________\n",
      "batch_normalization_33 (Batc (None, 64)                256       \n",
      "_________________________________________________________________\n",
      "dropout_39 (Dropout)         (None, 64)                0         \n",
      "_________________________________________________________________\n",
      "dense_62 (Dense)             (None, 10)                650       \n",
      "=================================================================\n",
      "Total params: 1,427,391\n",
      "Trainable params: 1,424,765\n",
      "Non-trainable params: 2,626\n",
      "_________________________________________________________________\n"
     ]
    }
   ],
   "source": [
    "# https://arxiv.org/pdf/1707.09725.pdf#page=95\n",
    "# for relu layers\n",
    "# If we sample weights from a normal distribution N(0,σ) we satisfy this condition with σ=√(2/(ni). \n",
    "# hi =>  σ=√(2/(fan_in) \n",
    "# out =>  σ=√(2/(fan_in+1)\n",
    "\n",
    "model_3 = Sequential()\n",
    "model_3.add(Dense(input_dim ,activation='relu',input_shape=(input_dim,),kernel_initializer=RandomNormal(mean=0.0, stddev=0.0633, seed=None)))\n",
    "model_3.add(Dense(H_Layer_1 ,activation='relu',kernel_initializer=RandomNormal(mean=0.0, stddev=0.0632, seed=None)))\n",
    "model_3.add(Dropout(0.2))\n",
    "model_3.add(Dense(H_Layer_2, activation='relu',kernel_initializer=RandomNormal(mean=0.0, stddev=0.0685, seed=None)))\n",
    "model_3.add(Dropout(0.3))\n",
    "model_3.add(BatchNormalization())\n",
    "model_3.add(Dense(H_Layer_3, activation='relu',kernel_initializer=RandomNormal(mean=0.0, stddev=0.0756, seed=None)))\n",
    "model_3.add(BatchNormalization())\n",
    "model_3.add(Dropout(0.4))\n",
    "model_3.add(BatchNormalization())\n",
    "model_3.add(Dense(H_Layer_4, activation='relu',kernel_initializer=RandomNormal(mean=0.0, stddev=0.127, seed=None)))\n",
    "model_3.add(BatchNormalization())\n",
    "model_3.add(Dropout(0.45))\n",
    "model_3.add(Dense(H_Layer_5, activation='relu',kernel_initializer=RandomNormal(mean=0.0, stddev=0.1768, seed=None)))\n",
    "model_3.add(BatchNormalization())\n",
    "model_3.add(Dropout(0.5))\n",
    "model_3.add(Dense(output_dim, activation='softmax'))\n",
    "model_3.summary()"
   ]
  },
  {
   "cell_type": "code",
   "execution_count": 0,
   "metadata": {
    "colab": {
     "base_uri": "https://localhost:8080/",
     "height": 763
    },
    "colab_type": "code",
    "id": "A9URwM5oo9Xs",
    "outputId": "de410d08-dcf6-4d4e-ef69-fcb4480ffe32"
   },
   "outputs": [
    {
     "name": "stdout",
     "output_type": "stream",
     "text": [
      "Train on 60000 samples, validate on 10000 samples\n",
      "Epoch 1/20\n",
      "60000/60000 [==============================] - 24s 396us/step - loss: 0.9511 - acc: 0.7104 - val_loss: 0.2158 - val_acc: 0.9377\n",
      "Epoch 2/20\n",
      "60000/60000 [==============================] - 19s 322us/step - loss: 0.2619 - acc: 0.9315 - val_loss: 0.1222 - val_acc: 0.9639\n",
      "Epoch 3/20\n",
      "60000/60000 [==============================] - 20s 327us/step - loss: 0.1688 - acc: 0.9578 - val_loss: 0.1105 - val_acc: 0.9697\n",
      "Epoch 4/20\n",
      "60000/60000 [==============================] - 19s 322us/step - loss: 0.1261 - acc: 0.9682 - val_loss: 0.1128 - val_acc: 0.9696\n",
      "Epoch 5/20\n",
      "60000/60000 [==============================] - 20s 326us/step - loss: 0.0996 - acc: 0.9748 - val_loss: 0.0972 - val_acc: 0.9773\n",
      "Epoch 6/20\n",
      "60000/60000 [==============================] - 19s 324us/step - loss: 0.0818 - acc: 0.9797 - val_loss: 0.0980 - val_acc: 0.9766\n",
      "Epoch 7/20\n",
      "60000/60000 [==============================] - 19s 320us/step - loss: 0.0735 - acc: 0.9816 - val_loss: 0.0935 - val_acc: 0.9770\n",
      "Epoch 8/20\n",
      "60000/60000 [==============================] - 19s 319us/step - loss: 0.0602 - acc: 0.9848 - val_loss: 0.1078 - val_acc: 0.9755\n",
      "Epoch 9/20\n",
      "60000/60000 [==============================] - 19s 322us/step - loss: 0.0540 - acc: 0.9859 - val_loss: 0.0978 - val_acc: 0.9777\n",
      "Epoch 10/20\n",
      "60000/60000 [==============================] - 19s 322us/step - loss: 0.0484 - acc: 0.9884 - val_loss: 0.0941 - val_acc: 0.9800\n",
      "Epoch 11/20\n",
      "60000/60000 [==============================] - 19s 321us/step - loss: 0.0461 - acc: 0.9886 - val_loss: 0.0970 - val_acc: 0.9792\n",
      "Epoch 12/20\n",
      "60000/60000 [==============================] - 19s 321us/step - loss: 0.0364 - acc: 0.9903 - val_loss: 0.0936 - val_acc: 0.9804\n",
      "Epoch 13/20\n",
      "60000/60000 [==============================] - 19s 324us/step - loss: 0.0312 - acc: 0.9919 - val_loss: 0.0931 - val_acc: 0.9812\n",
      "Epoch 14/20\n",
      "60000/60000 [==============================] - 19s 323us/step - loss: 0.0317 - acc: 0.9920 - val_loss: 0.1015 - val_acc: 0.9809\n",
      "Epoch 15/20\n",
      "60000/60000 [==============================] - 19s 321us/step - loss: 0.0329 - acc: 0.9918 - val_loss: 0.1329 - val_acc: 0.9752\n",
      "Epoch 16/20\n",
      "60000/60000 [==============================] - 19s 322us/step - loss: 0.0295 - acc: 0.9929 - val_loss: 0.1078 - val_acc: 0.9775\n",
      "Epoch 17/20\n",
      "60000/60000 [==============================] - 19s 320us/step - loss: 0.0259 - acc: 0.9938 - val_loss: 0.1073 - val_acc: 0.9795\n",
      "Epoch 18/20\n",
      "60000/60000 [==============================] - 19s 320us/step - loss: 0.0243 - acc: 0.9940 - val_loss: 0.0983 - val_acc: 0.9823\n",
      "Epoch 19/20\n",
      "60000/60000 [==============================] - 20s 325us/step - loss: 0.0255 - acc: 0.9936 - val_loss: 0.0820 - val_acc: 0.9832\n",
      "Epoch 20/20\n",
      "60000/60000 [==============================] - 19s 323us/step - loss: 0.0193 - acc: 0.9950 - val_loss: 0.0890 - val_acc: 0.9836\n"
     ]
    }
   ],
   "source": [
    "model_3.compile(optimizer='adam', loss='categorical_crossentropy', metrics=['accuracy']) \n",
    "history = model_3.fit(X_train, Y_train, batch_size=batch_size, epochs=nb_epoch, verbose=1, validation_data=(X_test, Y_test))"
   ]
  },
  {
   "cell_type": "code",
   "execution_count": 0,
   "metadata": {
    "colab": {
     "base_uri": "https://localhost:8080/",
     "height": 357
    },
    "colab_type": "code",
    "id": "GAFODgZio9Xy",
    "outputId": "0b23d6cb-2ee4-4f99-e882-3e7f2c6d075a"
   },
   "outputs": [
    {
     "name": "stdout",
     "output_type": "stream",
     "text": [
      "Test score   : 0.08903393339179748\n",
      "Test accuracy: 0.9836\n",
      "Train score   : 0.010572065364455194\n",
      "Train accuracy: 0.9974\n"
     ]
    },
    {
     "data": {
      "image/png": "[encoded data removed]",
      "text/plain": [
       "<Figure size 432x288 with 1 Axes>"
      ]
     },
     "metadata": {
      "tags": []
     },
     "output_type": "display_data"
    }
   ],
   "source": [
    "score3_tst = model_3.evaluate(X_test, Y_test, verbose=0) \n",
    "print('Test score   :', score3_tst[0]) \n",
    "print('Test accuracy:', score3_tst[1])\n",
    "\n",
    "score3_trn = model_3.evaluate(X_train, Y_train, verbose=0) \n",
    "print('Train score   :', score3_trn[0]) \n",
    "print('Train accuracy:', score3_trn[1])\n",
    "\n",
    "\n",
    "fig,ax = plt.subplots(1,1)\n",
    "ax.set_xlabel('epoch') ; ax.set_ylabel('Categorical Crossentropy Loss')\n",
    "\n",
    "x = list(range(1,nb_epoch+1))\n",
    "vy = history.history['val_loss']\n",
    "ty = history.history['loss']\n",
    "plt_dynamic(x, vy, ty, ax)\n",
    "Total_SUMRY[3]=[\"Model3\", \"5\", \"500-425-350-124-64\" ,\"Relu\",\"Adam\",\"Yes\",\"Random Normal\",score3_trn[1],score3_tst[1]]"
   ]
  },
  {
   "cell_type": "markdown",
   "metadata": {
    "colab_type": "text",
    "id": "jh1NdGeIEqpl"
   },
   "source": [
    "\n",
    "This is almost similar to the first Architecture\n",
    "\n",
    "At the 4th epoc bot values are same, 0.17.\n",
    "\n",
    "As we notice, Los is so high for Train Data at intial Epochs.\n",
    "\n",
    "Test Loss for lesser and constan for most of the epoch with very litile changes.\n",
    "\n",
    "At the 4th epoc bot values are same, 0.17."
   ]
  },
  {
   "cell_type": "markdown",
   "metadata": {
    "colab_type": "text",
    "id": "v82tC-goEqpn"
   },
   "source": [
    "**Model Performance**\n",
    "\n",
    "Test accuracy: 0.9836 and Train accuracy: 0.9974\n",
    "\n",
    "Seems it is Overfitting, since both accuracies are with small difference.,  we can not say it.\n",
    "\n",
    "It is Overfitting, if the Test accuracy is very low and the Train accuracy is so high.\n",
    "\n",
    "Hence, the Above Architecture is Performing very Well.\n"
   ]
  },
  {
   "cell_type": "code",
   "execution_count": 0,
   "metadata": {
    "colab": {
     "base_uri": "https://localhost:8080/",
     "height": 145
    },
    "colab_type": "code",
    "id": "vI6zly-MtaWn",
    "outputId": "17c89b1c-426a-4ec4-c37b-35828c18007d"
   },
   "outputs": [
    {
     "name": "stdout",
     "output_type": "stream",
     "text": [
      "+--------+--------------+--------------------+------------+-----------+---------+-------------------+--------------------+-----------+\n",
      "| Model  | No of Layers |   No of Nuerons    | Activation | Optimizer | Dropout |   Initialization  |      Test ACC      | Train ACC |\n",
      "+--------+--------------+--------------------+------------+-----------+---------+-------------------+--------------------+-----------+\n",
      "| Model1 |      2       |      784-424       |    Relu    |    Adam   |    No   | No-Initialization | 0.9982666666666666 |   0.9836  |\n",
      "| Model2 |      3       |    524-462-128     |    Relu    |    Adam   |   Yes   |   Random Normal   |       0.9982       |   0.9834  |\n",
      "| Model3 |      5       | 500-425-350-124-64 |    Relu    |    Adam   |   Yes   |   Random Normal   |       0.9974       |   0.9836  |\n",
      "+--------+--------------+--------------------+------------+-----------+---------+-------------------+--------------------+-----------+\n"
     ]
    }
   ],
   "source": [
    "#http://zetcode.com/python/prettytable/\n",
    "from prettytable import PrettyTable\n",
    "x = PrettyTable()\n",
    "x.field_names = [\"Model\", \"No of Layers\", \"No of Nuerons\",\"Activation\",\"Optimizer\",\"Dropout\",\"Initialization\",\"Test ACC\",\"Train ACC\"]\n",
    "for i,j in enumerate(Total_SUMRY):\n",
    "  x.add_row([Total_SUMRY[j][0],Total_SUMRY[j][1],Total_SUMRY[j][2],Total_SUMRY[j][3],Total_SUMRY[j][4],Total_SUMRY[j][5],Total_SUMRY[j][6],Total_SUMRY[j][7],Total_SUMRY[j][8]])\n",
    "  #print(Total_SUMRY[j][0],\" = \",Total_SUMRY[j][1],\" = \",Total_SUMRY[j][2],\" = \",Total_SUMRY[j][3],\" = \",Total_SUMRY[j][4],\" = \",Total_SUMRY[j][5],\" = \",Total_SUMRY[j][6],\" = \",Total_SUMRY[j][7])    \n",
    "print(x)\n"
   ]
  },
  {
   "cell_type": "markdown",
   "metadata": {
    "colab_type": "text",
    "id": "uBzqYn_RGZAv"
   },
   "source": [
    "# Conclusion"
   ]
  },
  {
   "cell_type": "markdown",
   "metadata": {
    "colab_type": "text",
    "id": "WuBMA3ptGxZ7"
   },
   "source": [
    "We are getting almost all nearest accuracy values.But still out of three Model1 is performing litle bit higher.\n"
   ]
  }
 ],
 "metadata": {
  "colab": {
   "collapsed_sections": [],
   "name": "Deep_12: TensorFlow and Keras.ipynb",
   "provenance": [],
   "version": "0.3.2"
  },
  "kernelspec": {
   "display_name": "Python 3",
   "language": "python",
   "name": "python3"
  },
  "language_info": {
   "codemirror_mode": {
    "name": "ipython",
    "version": 3
   },
   "file_extension": ".py",
   "mimetype": "text/x-python",
   "name": "python",
   "nbconvert_exporter": "python",
   "pygments_lexer": "ipython3",
   "version": "3.6.5"
  }
 },
 "nbformat": 4,
 "nbformat_minor": 1
}
