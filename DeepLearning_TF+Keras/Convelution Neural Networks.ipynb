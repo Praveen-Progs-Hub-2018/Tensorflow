{
 "cells": [
  {
   "cell_type": "markdown",
   "metadata": {
    "colab_type": "text",
    "id": "UF_7ctLWdqf3"
   },
   "source": [
    "# Convelution Neural Networks on Mnist Dataset"
   ]
  },
  {
   "cell_type": "markdown",
   "metadata": {
    "colab_type": "text",
    "id": "AwNTXvuDbz8h"
   },
   "source": [
    "\n",
    "Objective : Wokring with Keras and Experiment with Different Convelution Nueral Network Architectures.\n",
    "\n",
    "Dataset : Mnist DataSet which is avialalbe in Keras Dataset by default.\n",
    "\n",
    "Developer Details : PraveenAI\n",
    "\n",
    "Source Details : Most of the code is extracted from my learnings with Keras https://keras.io/losses/ and Base Archictural Refference is from\"https://github.com/keras-team/keras/blob/master/examples/mnist_cnn.py\"\n"
   ]
  },
  {
   "cell_type": "code",
   "execution_count": 0,
   "metadata": {
    "colab": {},
    "colab_type": "code",
    "id": "zYu0j1kx8RIb"
   },
   "outputs": [],
   "source": [
    "import keras\n",
    "from keras.models import Sequential\n",
    "from keras.datasets import mnist\n",
    "from keras.layers import Dense,Dropout,Flatten,Conv2D,MaxPool2D,MaxPooling2D\n",
    "from keras.losses import categorical_crossentropy"
   ]
  },
  {
   "cell_type": "markdown",
   "metadata": {
    "colab_type": "text",
    "id": "5n-hMmu9csWv"
   },
   "source": [
    "**Load Dataset**"
   ]
  },
  {
   "cell_type": "code",
   "execution_count": 3,
   "metadata": {
    "colab": {
     "base_uri": "https://localhost:8080/",
     "height": 85
    },
    "colab_type": "code",
    "id": "GroiwrOU8rs5",
    "outputId": "8bce106c-a6ee-487a-8203-c29244303b0a"
   },
   "outputs": [
    {
     "name": "stdout",
     "output_type": "stream",
     "text": [
      "Downloading data from https://s3.amazonaws.com/img-datasets/mnist.npz\n",
      "11493376/11490434 [==============================] - 0s 0us/step\n",
      "Number of training examples : 60000 and each image is of shape (28, 28)\n",
      "Number of training examples : 10000 and each image is of shape (28, 28)\n"
     ]
    }
   ],
   "source": [
    "(x_train, y_train), (x_test, y_test) = mnist.load_data()\n",
    "print(\"Number of training examples :\", x_train.shape[0], \"and each image is of shape (%d, %d)\"%(x_train.shape[1], x_train.shape[2]))\n",
    "print(\"Number of training examples :\", x_test.shape[0], \"and each image is of shape (%d, %d)\"%(x_test.shape[1], x_test.shape[2]))"
   ]
  },
  {
   "cell_type": "markdown",
   "metadata": {
    "colab_type": "text",
    "id": "JVC9O1fmcve2"
   },
   "source": [
    "**Reshaping the Image to input to the Conv2D**"
   ]
  },
  {
   "cell_type": "code",
   "execution_count": 0,
   "metadata": {
    "colab": {},
    "colab_type": "code",
    "id": "tTYNZ9btYxNf"
   },
   "outputs": [],
   "source": [
    "#input image dimensions\n",
    "img_rows, img_cols = x_train.shape[1], x_train.shape[2]\n",
    "input_shape = (img_rows, img_cols, 1)                              #(60000,28, 28, 1) input the 1st layer Conv2d\n",
    "\n",
    "\n",
    "\n",
    "#Conv2D Accepts 4-D array #(no row, x,y,z) = (60000,28, 28, 1)\n",
    "\n",
    "x_train = x_train.reshape(x_train.shape[0], img_rows, img_cols, 1) #4d X_train\n",
    "x_test  = x_test.reshape(x_test.shape[0], img_rows, img_cols, 1)   #4d x_train\n",
    "\n",
    "\n",
    "x_train = x_train/255\n",
    "x_test =  x_test/ 255"
   ]
  },
  {
   "cell_type": "code",
   "execution_count": 6,
   "metadata": {
    "colab": {
     "base_uri": "https://localhost:8080/",
     "height": 68
    },
    "colab_type": "code",
    "id": "9wpKEwx1b9N4",
    "outputId": "3917d21a-e3d5-467f-8840-c942b0964b4c"
   },
   "outputs": [
    {
     "name": "stdout",
     "output_type": "stream",
     "text": [
      "x_train shape:>>  (60000, 28, 28, 1)\n",
      "train samples:>>  60000\n",
      "test samples :>>  10000\n"
     ]
    }
   ],
   "source": [
    "#dimensions of train and test\n",
    "print('x_train shape:>> ', x_train.shape)\n",
    "print('train samples:>> ', x_train.shape[0])\n",
    "print('test samples :>> ', x_test.shape[0])"
   ]
  },
  {
   "cell_type": "markdown",
   "metadata": {
    "colab_type": "text",
    "id": "Rex3vy-XdJxy"
   },
   "source": [
    "**Converting the labels to Categorical**"
   ]
  },
  {
   "cell_type": "code",
   "execution_count": 0,
   "metadata": {
    "colab": {},
    "colab_type": "code",
    "id": "JDlgrdF9_6VM"
   },
   "outputs": [],
   "source": [
    "# convert class vectors to binary class matrices\n",
    "y_train = keras.utils.to_categorical(y_train, num_classes)\n",
    "y_test = keras.utils.to_categorical(y_test, num_classes)"
   ]
  },
  {
   "cell_type": "code",
   "execution_count": 8,
   "metadata": {
    "colab": {
     "base_uri": "https://localhost:8080/",
     "height": 34
    },
    "colab_type": "code",
    "id": "ANYmoBxTciFi",
    "outputId": "c627236e-76df-49b6-e260-b143f8512393"
   },
   "outputs": [
    {
     "name": "stdout",
     "output_type": "stream",
     "text": [
      "(60000, 10)\n"
     ]
    }
   ],
   "source": [
    "print(y_train.shape)"
   ]
  },
  {
   "cell_type": "markdown",
   "metadata": {
    "colab_type": "text",
    "id": "d5c-fkD1cXp2"
   },
   "source": [
    "**Initializing the CNN Params** "
   ]
  },
  {
   "cell_type": "code",
   "execution_count": 0,
   "metadata": {
    "colab": {},
    "colab_type": "code",
    "id": "Y51pS1YfaZcc"
   },
   "outputs": [],
   "source": [
    "batch_size = 128\n",
    "num_classes = 10\n",
    "epochs = 12\n",
    "Total_SUMRY = {}"
   ]
  },
  {
   "cell_type": "markdown",
   "metadata": {
    "colab_type": "text",
    "id": "tTrU_0Ga1195"
   },
   "source": [
    "### Plot Train Los and Test Loss Vs Epochs"
   ]
  },
  {
   "cell_type": "code",
   "execution_count": 0,
   "metadata": {
    "colab": {},
    "colab_type": "code",
    "id": "X48mall61yCj"
   },
   "outputs": [],
   "source": [
    "%matplotlib inline\n",
    "# https://gist.github.com/greydanus/f6eee59eaf1d90fcb3b534a25362cea4\n",
    "# https://stackoverflow.com/a/14434334\n",
    "# this function is used to update the plots for each epoch and error\n",
    "import matplotlib.pyplot as plt\n",
    "import numpy as np\n",
    "import time\n",
    "\n",
    "def plt_dynamic(x, vy, ty, ax, colors=['b']):\n",
    "    ax.plot(x, vy, 'b', label=\"Validation Loss\")\n",
    "    ax.plot(x, ty, 'r', label=\"Train Loss\")\n",
    "    plt.legend()\n",
    "    plt.grid()\n",
    "    fig.canvas.draw()"
   ]
  },
  {
   "cell_type": "markdown",
   "metadata": {
    "colab_type": "text",
    "id": "nkwEImsu2JBm"
   },
   "source": [
    "# Architecture 1 :64-28-12(3 Convlution Layers with 64,28,12  + Dense softmax)\n",
    "\n",
    "> **3-CNN - relu ,  1-Dense + relu activation + AdamOtpimizer **"
   ]
  },
  {
   "cell_type": "code",
   "execution_count": 10,
   "metadata": {
    "colab": {
     "base_uri": "https://localhost:8080/",
     "height": 564
    },
    "colab_type": "code",
    "id": "2YwNv9z6Bbru",
    "outputId": "67c255ca-ac9b-4cc3-8fdf-fb6736673a11"
   },
   "outputs": [
    {
     "name": "stdout",
     "output_type": "stream",
     "text": [
      "WARNING:tensorflow:From /usr/local/lib/python3.6/dist-packages/tensorflow/python/framework/op_def_library.py:263: colocate_with (from tensorflow.python.framework.ops) is deprecated and will be removed in a future version.\n",
      "Instructions for updating:\n",
      "Colocations handled automatically by placer.\n",
      "WARNING:tensorflow:From /usr/local/lib/python3.6/dist-packages/keras/backend/tensorflow_backend.py:3445: calling dropout (from tensorflow.python.ops.nn_ops) with keep_prob is deprecated and will be removed in a future version.\n",
      "Instructions for updating:\n",
      "Please use `rate` instead of `keep_prob`. Rate should be set to `rate = 1 - keep_prob`.\n",
      "_________________________________________________________________\n",
      "Layer (type)                 Output Shape              Param #   \n",
      "=================================================================\n",
      "conv2d_1 (Conv2D)            (None, 28, 28, 64)        640       \n",
      "_________________________________________________________________\n",
      "max_pooling2d_1 (MaxPooling2 (None, 14, 14, 64)        0         \n",
      "_________________________________________________________________\n",
      "dropout_1 (Dropout)          (None, 14, 14, 64)        0         \n",
      "_________________________________________________________________\n",
      "conv2d_2 (Conv2D)            (None, 14, 14, 28)        16156     \n",
      "_________________________________________________________________\n",
      "dropout_2 (Dropout)          (None, 14, 14, 28)        0         \n",
      "_________________________________________________________________\n",
      "conv2d_3 (Conv2D)            (None, 14, 14, 12)        3036      \n",
      "_________________________________________________________________\n",
      "dropout_3 (Dropout)          (None, 14, 14, 12)        0         \n",
      "_________________________________________________________________\n",
      "flatten_1 (Flatten)          (None, 2352)              0         \n",
      "_________________________________________________________________\n",
      "dense_1 (Dense)              (None, 10)                23530     \n",
      "=================================================================\n",
      "Total params: 43,362\n",
      "Trainable params: 43,362\n",
      "Non-trainable params: 0\n",
      "_________________________________________________________________\n"
     ]
    }
   ],
   "source": [
    "model_1 = Sequential()\n",
    "model_1.add(Conv2D(64,kernel_size=(3,3),padding='same',activation='relu',input_shape=input_shape))\n",
    "model_1.add(MaxPool2D(pool_size=(2, 2)))\n",
    "model_1.add(Dropout(0.2))\n",
    "model_1.add(Conv2D(28,kernel_size=(3,3),padding='same',activation='relu'))\n",
    "model_1.add(Dropout(0.35))\n",
    "model_1.add(Conv2D(12,kernel_size=(3,3),padding='same',activation='relu'))\n",
    "model_1.add(Dropout(0.4))\n",
    "model_1.add(Flatten())\n",
    "model_1.add(Dense(num_classes,activation='softmax'))\n",
    "model_1.summary()"
   ]
  },
  {
   "cell_type": "code",
   "execution_count": 13,
   "metadata": {
    "colab": {
     "base_uri": "https://localhost:8080/",
     "height": 442
    },
    "colab_type": "code",
    "id": "B2414ywcWId6",
    "outputId": "b48e8f1c-5bc7-4d0f-d2db-a403f0e9e9d2"
   },
   "outputs": [
    {
     "name": "stdout",
     "output_type": "stream",
     "text": [
      "Train on 60000 samples, validate on 10000 samples\n",
      "Epoch 1/12\n",
      "60000/60000 [==============================] - 157s 3ms/step - loss: 0.0379 - acc: 0.9884 - val_loss: 0.0260 - val_acc: 0.9910\n",
      "Epoch 2/12\n",
      "60000/60000 [==============================] - 154s 3ms/step - loss: 0.0351 - acc: 0.9888 - val_loss: 0.0290 - val_acc: 0.9902\n",
      "Epoch 3/12\n",
      "60000/60000 [==============================] - 149s 2ms/step - loss: 0.0344 - acc: 0.9890 - val_loss: 0.0241 - val_acc: 0.9920\n",
      "Epoch 4/12\n",
      "60000/60000 [==============================] - 148s 2ms/step - loss: 0.0320 - acc: 0.9894 - val_loss: 0.0238 - val_acc: 0.9922\n",
      "Epoch 5/12\n",
      "60000/60000 [==============================] - 146s 2ms/step - loss: 0.0316 - acc: 0.9899 - val_loss: 0.0258 - val_acc: 0.9914\n",
      "Epoch 6/12\n",
      "60000/60000 [==============================] - 143s 2ms/step - loss: 0.0310 - acc: 0.9903 - val_loss: 0.0245 - val_acc: 0.9923\n",
      "Epoch 7/12\n",
      "60000/60000 [==============================] - 143s 2ms/step - loss: 0.0293 - acc: 0.9905 - val_loss: 0.0253 - val_acc: 0.9920\n",
      "Epoch 8/12\n",
      "60000/60000 [==============================] - 143s 2ms/step - loss: 0.0298 - acc: 0.9903 - val_loss: 0.0255 - val_acc: 0.9902\n",
      "Epoch 9/12\n",
      "60000/60000 [==============================] - 143s 2ms/step - loss: 0.0284 - acc: 0.9910 - val_loss: 0.0239 - val_acc: 0.9918\n",
      "Epoch 10/12\n",
      "60000/60000 [==============================] - 147s 2ms/step - loss: 0.0274 - acc: 0.9914 - val_loss: 0.0234 - val_acc: 0.9921\n",
      "Epoch 11/12\n",
      "60000/60000 [==============================] - 148s 2ms/step - loss: 0.0279 - acc: 0.9906 - val_loss: 0.0243 - val_acc: 0.9916\n",
      "Epoch 12/12\n",
      "60000/60000 [==============================] - 149s 2ms/step - loss: 0.0266 - acc: 0.9911 - val_loss: 0.0235 - val_acc: 0.9925\n"
     ]
    }
   ],
   "source": [
    "model_1.compile(loss=categorical_crossentropy,optimizer='adam',metrics=['accuracy'])\n",
    "history = model_1.fit(x_train,y_train,batch_size=batch_size,epochs=epochs, verbose=1, validation_data=(x_test, y_test))"
   ]
  },
  {
   "cell_type": "code",
   "execution_count": 16,
   "metadata": {
    "colab": {
     "base_uri": "https://localhost:8080/",
     "height": 334
    },
    "colab_type": "code",
    "id": "E0KqZ7noXSfy",
    "outputId": "6ae961f9-2bda-4f36-dbaf-f00b3ac4c66f"
   },
   "outputs": [
    {
     "name": "stdout",
     "output_type": "stream",
     "text": [
      "Test score   : 0.023471647653033143\n",
      "Test accuracy: 0.9925\n",
      "Train accuracy: 0.9976\n"
     ]
    },
    {
     "data": {
      "image/png": "[encoded data removed]",
      "text/plain": [
       "<Figure size 432x288 with 1 Axes>"
      ]
     },
     "metadata": {
      "tags": []
     },
     "output_type": "display_data"
    }
   ],
   "source": [
    "score1_tst = model_1.evaluate(x_test, y_test, verbose=0) \n",
    "print('Test score   :', score1_tst[0]) \n",
    "print('Test accuracy:', score1_tst[1])\n",
    "\n",
    "score1_trn = model_1.evaluate(x_train, y_train, verbose=0) \n",
    "print('Train accuracy:', score1_trn[1])\n",
    "\n",
    "\n",
    "fig,ax = plt.subplots(1,1)\n",
    "ax.set_xlabel('epoch') ; ax.set_ylabel('Categorical Crossentropy Loss')\n",
    "x = list(range(1,epochs+1))\n",
    "vy = history.history['val_loss']\n",
    "ty = history.history['loss']\n",
    "plt_dynamic(x, vy, ty, ax)\n",
    "\n",
    "#[\"Model\", \"#ConvLayers\", \"size of Convnets\",\"#Maxpool\",\"size of Maxpool\",\"#Dropout\",\"Dense\",\"Test ACC\",\"Train ACC\"]\n",
    "Total_SUMRY[1]=[\"Model1\", \"3\", \"64-28-12\" ,\"1\",\"2\",\"3\",\"1\",score1_trn[1],score1_tst[1]]"
   ]
  },
  {
   "cell_type": "markdown",
   "metadata": {
    "colab_type": "text",
    "id": "Kj7olqLy3Tk8"
   },
   "source": [
    "# Architecture 2 :60-40-28-14-8(5 Convlution Layers  + 1 Dense softmax)\n",
    "\n",
    "> **5-CNN - relu ,  1-Dense + relu activation + AdamOtpimizer **"
   ]
  },
  {
   "cell_type": "code",
   "execution_count": 32,
   "metadata": {
    "colab": {
     "base_uri": "https://localhost:8080/",
     "height": 680
    },
    "colab_type": "code",
    "id": "G4JT1wQJW6WM",
    "outputId": "a149a679-1c8d-4d11-9cfa-592f37c10c82"
   },
   "outputs": [
    {
     "name": "stdout",
     "output_type": "stream",
     "text": [
      "_________________________________________________________________\n",
      "Layer (type)                 Output Shape              Param #   \n",
      "=================================================================\n",
      "conv2d_68 (Conv2D)           (None, 28, 28, 60)        600       \n",
      "_________________________________________________________________\n",
      "dropout_60 (Dropout)         (None, 28, 28, 60)        0         \n",
      "_________________________________________________________________\n",
      "max_pooling2d_62 (MaxPooling (None, 14, 14, 60)        0         \n",
      "_________________________________________________________________\n",
      "conv2d_69 (Conv2D)           (None, 14, 14, 40)        21640     \n",
      "_________________________________________________________________\n",
      "dropout_61 (Dropout)         (None, 14, 14, 40)        0         \n",
      "_________________________________________________________________\n",
      "max_pooling2d_63 (MaxPooling (None, 7, 7, 40)          0         \n",
      "_________________________________________________________________\n",
      "conv2d_70 (Conv2D)           (None, 7, 7, 28)          10108     \n",
      "_________________________________________________________________\n",
      "dropout_62 (Dropout)         (None, 7, 7, 28)          0         \n",
      "_________________________________________________________________\n",
      "max_pooling2d_64 (MaxPooling (None, 3, 3, 28)          0         \n",
      "_________________________________________________________________\n",
      "conv2d_71 (Conv2D)           (None, 3, 3, 14)          3542      \n",
      "_________________________________________________________________\n",
      "max_pooling2d_65 (MaxPooling (None, 1, 1, 14)          0         \n",
      "_________________________________________________________________\n",
      "dropout_63 (Dropout)         (None, 1, 1, 14)          0         \n",
      "_________________________________________________________________\n",
      "conv2d_72 (Conv2D)           (None, 1, 1, 8)           456       \n",
      "_________________________________________________________________\n",
      "dropout_64 (Dropout)         (None, 1, 1, 8)           0         \n",
      "_________________________________________________________________\n",
      "flatten_7 (Flatten)          (None, 8)                 0         \n",
      "_________________________________________________________________\n",
      "dense_7 (Dense)              (None, 10)                90        \n",
      "=================================================================\n",
      "Total params: 36,436\n",
      "Trainable params: 36,436\n",
      "Non-trainable params: 0\n",
      "_________________________________________________________________\n"
     ]
    }
   ],
   "source": [
    "model_2 = Sequential()\n",
    "model_2.add(Conv2D(60,kernel_size=(3,3),padding='same',activation='relu',input_shape=input_shape))\n",
    "model_2.add(Dropout(0.25))\n",
    "model_2.add(MaxPooling2D(pool_size=(2,2)))\n",
    "\n",
    "\n",
    "model_2.add(Conv2D(40,kernel_size=(3,3),padding='same',activation='relu'))\n",
    "model_2.add(Dropout(0.35))\n",
    "model_2.add(MaxPooling2D(pool_size=(2, 2)))\n",
    "\n",
    "model_2.add(Conv2D(28,kernel_size=(3,3),padding='same',activation='relu'))\n",
    "model_2.add(Dropout(0.5))\n",
    "model_2.add(MaxPooling2D(pool_size=(2, 2)))\n",
    "\n",
    "\n",
    "model_2.add(Conv2D(14,kernel_size=(3,3),padding='same',activation='relu'))\n",
    "model_2.add(MaxPool2D(pool_size=(2, 2)))\n",
    "model_2.add(Dropout(0.55))\n",
    "\n",
    "model_2.add(Conv2D(8,kernel_size=(2,2),padding='same',activation='relu'))\n",
    "model_2.add(Dropout(0.6))\n",
    "\n",
    "model_2.add(Flatten())\n",
    "model_2.add(Dense(num_classes,activation='softmax'))\n",
    "model_2.summary()"
   ]
  },
  {
   "cell_type": "code",
   "execution_count": 33,
   "metadata": {
    "colab": {
     "base_uri": "https://localhost:8080/",
     "height": 442
    },
    "colab_type": "code",
    "id": "gNSC-4JsexCz",
    "outputId": "eb8057e2-8579-42e6-a6d0-5b3a6a3292a5"
   },
   "outputs": [
    {
     "name": "stdout",
     "output_type": "stream",
     "text": [
      "Train on 60000 samples, validate on 10000 samples\n",
      "Epoch 1/12\n",
      "60000/60000 [==============================] - 167s 3ms/step - loss: 1.9895 - acc: 0.2383 - val_loss: 1.6275 - val_acc: 0.6913\n",
      "Epoch 2/12\n",
      "60000/60000 [==============================] - 166s 3ms/step - loss: 1.6871 - acc: 0.3619 - val_loss: 1.3396 - val_acc: 0.6544\n",
      "Epoch 3/12\n",
      "60000/60000 [==============================] - 167s 3ms/step - loss: 1.5815 - acc: 0.3926 - val_loss: 1.1770 - val_acc: 0.6273\n",
      "Epoch 4/12\n",
      "60000/60000 [==============================] - 163s 3ms/step - loss: 1.5396 - acc: 0.4046 - val_loss: 1.1827 - val_acc: 0.6150\n",
      "Epoch 5/12\n",
      "60000/60000 [==============================] - 163s 3ms/step - loss: 1.5066 - acc: 0.4120 - val_loss: 1.1027 - val_acc: 0.6308\n",
      "Epoch 6/12\n",
      "60000/60000 [==============================] - 163s 3ms/step - loss: 1.4927 - acc: 0.4139 - val_loss: 1.0767 - val_acc: 0.6341\n",
      "Epoch 7/12\n",
      "60000/60000 [==============================] - 164s 3ms/step - loss: 1.4812 - acc: 0.4189 - val_loss: 1.0699 - val_acc: 0.6323\n",
      "Epoch 8/12\n",
      "60000/60000 [==============================] - 164s 3ms/step - loss: 1.4529 - acc: 0.4274 - val_loss: 0.9694 - val_acc: 0.6576\n",
      "Epoch 9/12\n",
      "60000/60000 [==============================] - 164s 3ms/step - loss: 1.4571 - acc: 0.4268 - val_loss: 0.9777 - val_acc: 0.6460\n",
      "Epoch 10/12\n",
      "60000/60000 [==============================] - 164s 3ms/step - loss: 1.4378 - acc: 0.4304 - val_loss: 1.0450 - val_acc: 0.6159\n",
      "Epoch 11/12\n",
      "60000/60000 [==============================] - 165s 3ms/step - loss: 1.4397 - acc: 0.4336 - val_loss: 0.9709 - val_acc: 0.6507\n",
      "Epoch 12/12\n",
      "60000/60000 [==============================] - 164s 3ms/step - loss: 1.4289 - acc: 0.4387 - val_loss: 0.9443 - val_acc: 0.6492\n"
     ]
    }
   ],
   "source": [
    "model_2.compile(loss=categorical_crossentropy,optimizer='adam',metrics=['accuracy'])\n",
    "history = model_2.fit(x_train,y_train,batch_size=batch_size,epochs=epochs, verbose=1, validation_data=(x_test, y_test))"
   ]
  },
  {
   "cell_type": "code",
   "execution_count": 36,
   "metadata": {
    "colab": {
     "base_uri": "https://localhost:8080/",
     "height": 351
    },
    "colab_type": "code",
    "id": "KtVj623onT3O",
    "outputId": "57d15f61-fe2c-4086-a888-418ec8aea122"
   },
   "outputs": [
    {
     "name": "stdout",
     "output_type": "stream",
     "text": [
      "Test score   : 0.9442845161437988\n",
      "Test accuracy: 0.6492\n",
      "Train score   : 0.952399647585551\n",
      "Train accuracy: 0.64605\n"
     ]
    },
    {
     "data": {
      "image/png": "[encoded data removed]",
      "text/plain": [
       "<Figure size 432x288 with 1 Axes>"
      ]
     },
     "metadata": {
      "tags": []
     },
     "output_type": "display_data"
    }
   ],
   "source": [
    "score2_tst = model_2.evaluate(x_test, y_test, verbose=0) \n",
    "print('Test score   :', score2_tst[0]) \n",
    "print('Test accuracy:', score2_tst[1])\n",
    "\n",
    "score2_trn = model_2.evaluate(x_train, y_train, verbose=0) \n",
    "print('Train score   :', score2_trn[0]) \n",
    "print('Train accuracy:', score2_trn[1])\n",
    "\n",
    "\n",
    "fig,ax = plt.subplots(1,1)\n",
    "ax.set_xlabel('epoch') ; ax.set_ylabel('Categorical Crossentropy Loss')\n",
    "\n",
    "x = list(range(1,epochs+1))\n",
    "vy = history.history['val_loss']\n",
    "ty = history.history['loss']\n",
    "plt_dynamic(x, vy, ty, ax)\n",
    "\n",
    "\n",
    "#[\"Model\", \"#ConvLayers\", \"size of Convnets\",\"#Maxpool\",\"size of Maxpool\",\"#Dropout\",\"Dense\",\"Test ACC\",\"Train ACC\"]\n",
    "Total_SUMRY[2]=[\"Model2\", \"5\", \"60-40-28-14-8\" ,\"5\",\"2-2-2-2\",\"4\",\"1\",score2_trn[1],score2_tst[1]]"
   ]
  },
  {
   "cell_type": "markdown",
   "metadata": {
    "colab_type": "text",
    "id": "-Fk27Sy_jDTf"
   },
   "source": [
    "# Architecture 3 :80-70-50-30-20-16-4(5 Convlution Layers +  2 Dense softmax)\n",
    "\n",
    "> **7-CNN - relu ,  2-Dense + relu activation + AdamOtpimizer **"
   ]
  },
  {
   "cell_type": "code",
   "execution_count": 37,
   "metadata": {
    "colab": {
     "base_uri": "https://localhost:8080/",
     "height": 782
    },
    "colab_type": "code",
    "id": "jjvxSEGFW6e2",
    "outputId": "3f157f0f-4b95-4b4d-fbb6-3930778af84e"
   },
   "outputs": [
    {
     "name": "stdout",
     "output_type": "stream",
     "text": [
      "_________________________________________________________________\n",
      "Layer (type)                 Output Shape              Param #   \n",
      "=================================================================\n",
      "conv2d_73 (Conv2D)           (None, 28, 28, 80)        2080      \n",
      "_________________________________________________________________\n",
      "max_pooling2d_66 (MaxPooling (None, 9, 9, 80)          0         \n",
      "_________________________________________________________________\n",
      "conv2d_74 (Conv2D)           (None, 9, 9, 70)          50470     \n",
      "_________________________________________________________________\n",
      "dropout_65 (Dropout)         (None, 9, 9, 70)          0         \n",
      "_________________________________________________________________\n",
      "conv2d_75 (Conv2D)           (None, 9, 9, 50)          31550     \n",
      "_________________________________________________________________\n",
      "dropout_66 (Dropout)         (None, 9, 9, 50)          0         \n",
      "_________________________________________________________________\n",
      "conv2d_76 (Conv2D)           (None, 9, 9, 30)          13530     \n",
      "_________________________________________________________________\n",
      "dropout_67 (Dropout)         (None, 9, 9, 30)          0         \n",
      "_________________________________________________________________\n",
      "conv2d_77 (Conv2D)           (None, 9, 9, 20)          5420      \n",
      "_________________________________________________________________\n",
      "max_pooling2d_67 (MaxPooling (None, 4, 4, 20)          0         \n",
      "_________________________________________________________________\n",
      "dropout_68 (Dropout)         (None, 4, 4, 20)          0         \n",
      "_________________________________________________________________\n",
      "conv2d_78 (Conv2D)           (None, 4, 4, 16)          2896      \n",
      "_________________________________________________________________\n",
      "dropout_69 (Dropout)         (None, 4, 4, 16)          0         \n",
      "_________________________________________________________________\n",
      "conv2d_79 (Conv2D)           (None, 4, 4, 8)           1160      \n",
      "_________________________________________________________________\n",
      "dropout_70 (Dropout)         (None, 4, 4, 8)           0         \n",
      "_________________________________________________________________\n",
      "flatten_8 (Flatten)          (None, 128)               0         \n",
      "_________________________________________________________________\n",
      "dense_8 (Dense)              (None, 100)               12900     \n",
      "_________________________________________________________________\n",
      "dropout_71 (Dropout)         (None, 100)               0         \n",
      "_________________________________________________________________\n",
      "dense_9 (Dense)              (None, 10)                1010      \n",
      "=================================================================\n",
      "Total params: 121,016\n",
      "Trainable params: 121,016\n",
      "Non-trainable params: 0\n",
      "_________________________________________________________________\n"
     ]
    }
   ],
   "source": [
    "model_3 = Sequential()\n",
    "model_3.add(Conv2D(80,kernel_size=(5,5),padding='same',activation='relu',input_shape=input_shape))\n",
    "model_3.add(MaxPool2D(pool_size=(3, 3)))\n",
    "\n",
    "model_3.add(Conv2D(70,kernel_size=(3,3),padding='same',activation='relu'))\n",
    "model_3.add(Dropout(0.35))\n",
    "\n",
    "\n",
    "model_3.add(Conv2D(50,kernel_size=(3,3),padding='same',activation='relu'))\n",
    "model_3.add(Dropout(0.35))\n",
    "\n",
    "model_3.add(Conv2D(30,kernel_size=(3,3),padding='same',activation='relu'))\n",
    "model_3.add(Dropout(0.4))\n",
    "\n",
    "model_3.add(Conv2D(20,kernel_size=(3,3),padding='same',activation='relu'))\n",
    "model_3.add(MaxPool2D(pool_size=(2, 2)))\n",
    "model_3.add(Dropout(0.5))\n",
    "\n",
    "\n",
    "model_3.add(Conv2D(16,kernel_size=(3,3),padding='same',activation='relu'))\n",
    "model_3.add(Dropout(0.5))\n",
    "\n",
    "model_3.add(Conv2D(8,kernel_size=(3,3),padding='same',activation='relu'))\n",
    "model_3.add(Dropout(0.55))\n",
    "\n",
    "model_3.add(Flatten())\n",
    "model_3.add(Dense(100,activation='relu'))\n",
    "model_3.add(Dropout(0.7))\n",
    "\n",
    "model_3.add(Dense(num_classes,activation='softmax'))\n",
    "model_3.summary()"
   ]
  },
  {
   "cell_type": "code",
   "execution_count": 38,
   "metadata": {
    "colab": {
     "base_uri": "https://localhost:8080/",
     "height": 442
    },
    "colab_type": "code",
    "id": "Vwiwy77ulnne",
    "outputId": "7a938bd5-d437-4988-d19d-97788a9baaa9"
   },
   "outputs": [
    {
     "name": "stdout",
     "output_type": "stream",
     "text": [
      "Train on 60000 samples, validate on 10000 samples\n",
      "Epoch 1/12\n",
      "60000/60000 [==============================] - 210s 3ms/step - loss: 1.8028 - acc: 0.3186 - val_loss: 0.8207 - val_acc: 0.6794\n",
      "Epoch 2/12\n",
      "60000/60000 [==============================] - 207s 3ms/step - loss: 0.8048 - acc: 0.7117 - val_loss: 0.3639 - val_acc: 0.8787\n",
      "Epoch 3/12\n",
      "60000/60000 [==============================] - 207s 3ms/step - loss: 0.4371 - acc: 0.8850 - val_loss: 0.1275 - val_acc: 0.9675\n",
      "Epoch 4/12\n",
      "60000/60000 [==============================] - 206s 3ms/step - loss: 0.2972 - acc: 0.9278 - val_loss: 0.0920 - val_acc: 0.9773\n",
      "Epoch 5/12\n",
      "60000/60000 [==============================] - 206s 3ms/step - loss: 0.2478 - acc: 0.9402 - val_loss: 0.1049 - val_acc: 0.9757\n",
      "Epoch 6/12\n",
      "60000/60000 [==============================] - 204s 3ms/step - loss: 0.2102 - acc: 0.9494 - val_loss: 0.0647 - val_acc: 0.9836\n",
      "Epoch 7/12\n",
      "60000/60000 [==============================] - 204s 3ms/step - loss: 0.1876 - acc: 0.9559 - val_loss: 0.0723 - val_acc: 0.9835\n",
      "Epoch 8/12\n",
      "60000/60000 [==============================] - 204s 3ms/step - loss: 0.1739 - acc: 0.9582 - val_loss: 0.0665 - val_acc: 0.9830\n",
      "Epoch 9/12\n",
      "60000/60000 [==============================] - 204s 3ms/step - loss: 0.1568 - acc: 0.9627 - val_loss: 0.0664 - val_acc: 0.9830\n",
      "Epoch 10/12\n",
      "60000/60000 [==============================] - 205s 3ms/step - loss: 0.1552 - acc: 0.9633 - val_loss: 0.0466 - val_acc: 0.9877\n",
      "Epoch 11/12\n",
      "60000/60000 [==============================] - 202s 3ms/step - loss: 0.1430 - acc: 0.9662 - val_loss: 0.0526 - val_acc: 0.9879\n",
      "Epoch 12/12\n",
      "60000/60000 [==============================] - 203s 3ms/step - loss: 0.1346 - acc: 0.9692 - val_loss: 0.0526 - val_acc: 0.9869\n"
     ]
    }
   ],
   "source": [
    "model_3.compile(loss=categorical_crossentropy,optimizer='adam',metrics=['accuracy'])\n",
    "history = model_3.fit(x_train,y_train,batch_size=batch_size,epochs=epochs, verbose=1, validation_data=(x_test, y_test))"
   ]
  },
  {
   "cell_type": "code",
   "execution_count": 41,
   "metadata": {
    "colab": {
     "base_uri": "https://localhost:8080/",
     "height": 351
    },
    "colab_type": "code",
    "id": "EAk6vDEmetZR",
    "outputId": "cdd59d7d-5f28-47cf-b2f4-731d37d5b568"
   },
   "outputs": [
    {
     "name": "stdout",
     "output_type": "stream",
     "text": [
      "Test score   : 0.05256174960960634\n",
      "Test accuracy: 0.9869\n",
      "Train score   : 0.046337916914901384\n",
      "Train accuracy: 0.9887833333333333\n"
     ]
    },
    {
     "data": {
      "image/png": "[encoded data removed]",
      "text/plain": [
       "<Figure size 432x288 with 1 Axes>"
      ]
     },
     "metadata": {
      "tags": []
     },
     "output_type": "display_data"
    }
   ],
   "source": [
    "score3_tst = model_3.evaluate(x_test, y_test, verbose=0) \n",
    "print('Test score   :', score3_tst[0]) \n",
    "print('Test accuracy:', score3_tst[1])\n",
    "\n",
    "score3_trn = model_3.evaluate(x_train, y_train, verbose=0) \n",
    "print('Train score   :', score3_trn[0]) \n",
    "print('Train accuracy:', score3_trn[1])\n",
    "\n",
    "\n",
    "fig,ax = plt.subplots(1,1)\n",
    "ax.set_xlabel('epoch') ; ax.set_ylabel('Categorical Crossentropy Loss')\n",
    "\n",
    "x = list(range(1,epochs+1))\n",
    "vy = history.history['val_loss']\n",
    "ty = history.history['loss']\n",
    "plt_dynamic(x, vy, ty, ax)\n",
    "\n",
    "#[\"Model\", \"#ConvLayers\", \"size of Convnets\",\"#Maxpool\",\"size of Maxpool\",\"#Dropout\",\"Dense\",\"Test ACC\",\"Train ACC\"]\n",
    "Total_SUMRY[3]=[\"Model3\", \"7\", \"80-70-50-30-20-16-4\" ,\"2\",\"3-2\",\"4\",\"2\",score3_trn[1],score3_tst[1]]"
   ]
  },
  {
   "cell_type": "code",
   "execution_count": 43,
   "metadata": {
    "colab": {
     "base_uri": "https://localhost:8080/",
     "height": 136
    },
    "colab_type": "code",
    "id": "-u2Ssy6sdO2C",
    "outputId": "e17df479-2014-4824-8d5a-2d9739810e28"
   },
   "outputs": [
    {
     "name": "stdout",
     "output_type": "stream",
     "text": [
      "+--------+-------------+---------------------+----------+-----------------+---------+-------+--------------------+-----------+\n",
      "| Model  | #ConvLayers |   size of Convnets  | #Maxpool | size of Maxpool | Dropout | Dense |      Test ACC      | Train ACC |\n",
      "+--------+-------------+---------------------+----------+-----------------+---------+-------+--------------------+-----------+\n",
      "| Model1 |      3      |       64-28-12      |    1     |        2        |    3    |   1   |       0.9976       |   0.9925  |\n",
      "| Model2 |      5      |    60-40-28-14-8    |    5     |     2-2-2-2     |    4    |   1   |      0.64605       |   0.6492  |\n",
      "| Model3 |      7      | 80-70-50-30-20-16-4 |    2     |       3-2       |    4    |   2   | 0.9887833333333333 |   0.9869  |\n",
      "+--------+-------------+---------------------+----------+-----------------+---------+-------+--------------------+-----------+\n"
     ]
    }
   ],
   "source": [
    "#http://zetcode.com/python/prettytable/\n",
    "from prettytable import PrettyTable\n",
    "x = PrettyTable()\n",
    "x.field_names = [\"Model\", \"#ConvLayers\", \"size of Convnets\",\"#Maxpool\",\"size of Maxpool\",\"Dropout\",\"Dense\",\"Test ACC\",\"Train ACC\"]\n",
    "for i,j in enumerate(Total_SUMRY):\n",
    "  x.add_row([Total_SUMRY[j][0],Total_SUMRY[j][1],Total_SUMRY[j][2],Total_SUMRY[j][3],Total_SUMRY[j][4],Total_SUMRY[j][5],Total_SUMRY[j][6],Total_SUMRY[j][7],Total_SUMRY[j][8]])\n",
    "  #print(Total_SUMRY[j][0],\" = \",Total_SUMRY[j][1],\" = \",Total_SUMRY[j][2],\" = \",Total_SUMRY[j][3],\" = \",Total_SUMRY[j][4],\" = \",Total_SUMRY[j][5],\" = \",Total_SUMRY[j][6],\" = \",Total_SUMRY[j][7])    \n",
    "print(x)\n"
   ]
  },
  {
   "cell_type": "markdown",
   "metadata": {
    "colab_type": "text",
    "id": "2mMzBjeBZTrm"
   },
   "source": [
    "## Conclusion"
   ]
  },
  {
   "cell_type": "markdown",
   "metadata": {
    "colab_type": "text",
    "id": "9UKV6PGeZWxp"
   },
   "source": [
    "We tried with three different combinations of ConvNets, Maxpools,Dropouts and Dense Layers.\n",
    "\n",
    "\n",
    "We can understand too much of maxpooling is not helping so much, infact it is penalising the accuracy.\n",
    "\n",
    "\n",
    "Model 1 and  Model 3 are performing nearly the same.\n",
    "\n",
    "\n",
    "Model 1 with 3 ConvNets and 2Maxpool  is giving the best performance out of three architectures.\n",
    "\n",
    "\n",
    "\n",
    "\n"
   ]
  }
 ],
 "metadata": {
  "colab": {
   "collapsed_sections": [],
   "name": "Assaignment13.ipynb",
   "provenance": [],
   "version": "0.3.2"
  },
  "kernelspec": {
   "display_name": "Python 3",
   "language": "python",
   "name": "python3"
  },
  "language_info": {
   "codemirror_mode": {
    "name": "ipython",
    "version": 3
   },
   "file_extension": ".py",
   "mimetype": "text/x-python",
   "name": "python",
   "nbconvert_exporter": "python",
   "pygments_lexer": "ipython3",
   "version": "3.6.5"
  }
 },
 "nbformat": 4,
 "nbformat_minor": 1
}
